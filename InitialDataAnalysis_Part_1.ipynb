{
 "cells": [
  {
   "cell_type": "markdown",
   "metadata": {},
   "source": [
    "# <center>Exploratory Data Analysis (EDA) </center>"
   ]
  },
  {
   "cell_type": "markdown",
   "metadata": {},
   "source": [
    "## Initial Data Analysis"
   ]
  },
  {
   "cell_type": "code",
   "execution_count": 23,
   "metadata": {},
   "outputs": [],
   "source": [
    "import numpy as np\n",
    "import pandas as pd\n",
    "import seaborn as sns\n",
    "import matplotlib.pyplot as plt\n",
    "\n",
    "from sklearn.feature_extraction.text import CountVectorizer\n",
    "from wordcloud import WordCloud, STOPWORDS, ImageColorGenerator\n",
    "\n",
    "# %matplotlib inline"
   ]
  },
  {
   "cell_type": "code",
   "execution_count": 24,
   "metadata": {},
   "outputs": [
    {
     "data": {
      "text/html": [
       "<div>\n",
       "<style scoped>\n",
       "    .dataframe tbody tr th:only-of-type {\n",
       "        vertical-align: middle;\n",
       "    }\n",
       "\n",
       "    .dataframe tbody tr th {\n",
       "        vertical-align: top;\n",
       "    }\n",
       "\n",
       "    .dataframe thead th {\n",
       "        text-align: right;\n",
       "    }\n",
       "</style>\n",
       "<table border=\"1\" class=\"dataframe\">\n",
       "  <thead>\n",
       "    <tr style=\"text-align: right;\">\n",
       "      <th></th>\n",
       "      <th>business_id</th>\n",
       "      <th>cool</th>\n",
       "      <th>date</th>\n",
       "      <th>funny</th>\n",
       "      <th>review_id</th>\n",
       "      <th>stars</th>\n",
       "      <th>text</th>\n",
       "      <th>useful</th>\n",
       "      <th>user_id</th>\n",
       "    </tr>\n",
       "  </thead>\n",
       "  <tbody>\n",
       "    <tr>\n",
       "      <th>0</th>\n",
       "      <td>mofOjB6flg-eAWOFbOkHfQ</td>\n",
       "      <td>0</td>\n",
       "      <td>2017-12-02 20:22:26</td>\n",
       "      <td>0</td>\n",
       "      <td>8MTptiOpUeuPUFZgtfk9Vw</td>\n",
       "      <td>1</td>\n",
       "      <td>I would have given this restaurant zero stars ...</td>\n",
       "      <td>1</td>\n",
       "      <td>9-vNlkNQL7OJQZ7-U965Ww</td>\n",
       "    </tr>\n",
       "    <tr>\n",
       "      <th>1</th>\n",
       "      <td>mofOjB6flg-eAWOFbOkHfQ</td>\n",
       "      <td>0</td>\n",
       "      <td>2017-12-16 04:31:05</td>\n",
       "      <td>0</td>\n",
       "      <td>ofpfzn8LV4nJ2pE6IlTVdg</td>\n",
       "      <td>1</td>\n",
       "      <td>So...no. Just...no. Before I picked up a plate...</td>\n",
       "      <td>1</td>\n",
       "      <td>-FcgbLbKjPgpst5qFU3-lg</td>\n",
       "    </tr>\n",
       "    <tr>\n",
       "      <th>2</th>\n",
       "      <td>mofOjB6flg-eAWOFbOkHfQ</td>\n",
       "      <td>0</td>\n",
       "      <td>2016-07-03 20:57:11</td>\n",
       "      <td>1</td>\n",
       "      <td>O3yApCw95tbA0kodflQrpA</td>\n",
       "      <td>5</td>\n",
       "      <td>The best food I want to the a lot of the buffe...</td>\n",
       "      <td>0</td>\n",
       "      <td>ShcyA_bTtqudK4eaSbtLGA</td>\n",
       "    </tr>\n",
       "    <tr>\n",
       "      <th>3</th>\n",
       "      <td>mofOjB6flg-eAWOFbOkHfQ</td>\n",
       "      <td>0</td>\n",
       "      <td>2017-05-13 23:25:06</td>\n",
       "      <td>0</td>\n",
       "      <td>fFTVZE7EENdl66SX9cgc0A</td>\n",
       "      <td>1</td>\n",
       "      <td>It's impressive how filthy this place is. Some...</td>\n",
       "      <td>0</td>\n",
       "      <td>oxcEFkXu_icNyp59Lb8GMQ</td>\n",
       "    </tr>\n",
       "    <tr>\n",
       "      <th>4</th>\n",
       "      <td>mofOjB6flg-eAWOFbOkHfQ</td>\n",
       "      <td>0</td>\n",
       "      <td>2014-10-12 22:16:18</td>\n",
       "      <td>0</td>\n",
       "      <td>pDlIw6DLLjZ5G1vJnMzr9A</td>\n",
       "      <td>5</td>\n",
       "      <td>I was visiting the Champaign area with my fami...</td>\n",
       "      <td>0</td>\n",
       "      <td>szNYE9rpw4Dv-J0LFs5R7g</td>\n",
       "    </tr>\n",
       "  </tbody>\n",
       "</table>\n",
       "</div>"
      ],
      "text/plain": [
       "              business_id  cool                 date  funny  \\\n",
       "0  mofOjB6flg-eAWOFbOkHfQ     0  2017-12-02 20:22:26      0   \n",
       "1  mofOjB6flg-eAWOFbOkHfQ     0  2017-12-16 04:31:05      0   \n",
       "2  mofOjB6flg-eAWOFbOkHfQ     0  2016-07-03 20:57:11      1   \n",
       "3  mofOjB6flg-eAWOFbOkHfQ     0  2017-05-13 23:25:06      0   \n",
       "4  mofOjB6flg-eAWOFbOkHfQ     0  2014-10-12 22:16:18      0   \n",
       "\n",
       "                review_id  stars  \\\n",
       "0  8MTptiOpUeuPUFZgtfk9Vw      1   \n",
       "1  ofpfzn8LV4nJ2pE6IlTVdg      1   \n",
       "2  O3yApCw95tbA0kodflQrpA      5   \n",
       "3  fFTVZE7EENdl66SX9cgc0A      1   \n",
       "4  pDlIw6DLLjZ5G1vJnMzr9A      5   \n",
       "\n",
       "                                                text  useful  \\\n",
       "0  I would have given this restaurant zero stars ...       1   \n",
       "1  So...no. Just...no. Before I picked up a plate...       1   \n",
       "2  The best food I want to the a lot of the buffe...       0   \n",
       "3  It's impressive how filthy this place is. Some...       0   \n",
       "4  I was visiting the Champaign area with my fami...       0   \n",
       "\n",
       "                  user_id  \n",
       "0  9-vNlkNQL7OJQZ7-U965Ww  \n",
       "1  -FcgbLbKjPgpst5qFU3-lg  \n",
       "2  ShcyA_bTtqudK4eaSbtLGA  \n",
       "3  oxcEFkXu_icNyp59Lb8GMQ  \n",
       "4  szNYE9rpw4Dv-J0LFs5R7g  "
      ]
     },
     "execution_count": 24,
     "metadata": {},
     "output_type": "execute_result"
    }
   ],
   "source": [
    "reviews_data = pd.read_csv(\"data/il_reviews.csv\", header = 0)\n",
    "reviews_data.head()  # Snapshot of reviews data"
   ]
  },
  {
   "cell_type": "code",
   "execution_count": 25,
   "metadata": {},
   "outputs": [
    {
     "name": "stdout",
     "output_type": "stream",
     "text": [
      "<class 'pandas.core.frame.DataFrame'>\n",
      "RangeIndex: 6703 entries, 0 to 6702\n",
      "Data columns (total 9 columns):\n",
      "business_id    6703 non-null object\n",
      "cool           6703 non-null int64\n",
      "date           6703 non-null object\n",
      "funny          6703 non-null int64\n",
      "review_id      6703 non-null object\n",
      "stars          6703 non-null int64\n",
      "text           6703 non-null object\n",
      "useful         6703 non-null int64\n",
      "user_id        6703 non-null object\n",
      "dtypes: int64(4), object(5)\n",
      "memory usage: 471.4+ KB\n"
     ]
    }
   ],
   "source": [
    "reviews_data.info() # summary of the reviews dataset"
   ]
  },
  {
   "cell_type": "code",
   "execution_count": 26,
   "metadata": {},
   "outputs": [
    {
     "data": {
      "text/html": [
       "<div>\n",
       "<style scoped>\n",
       "    .dataframe tbody tr th:only-of-type {\n",
       "        vertical-align: middle;\n",
       "    }\n",
       "\n",
       "    .dataframe tbody tr th {\n",
       "        vertical-align: top;\n",
       "    }\n",
       "\n",
       "    .dataframe thead th {\n",
       "        text-align: right;\n",
       "    }\n",
       "</style>\n",
       "<table border=\"1\" class=\"dataframe\">\n",
       "  <thead>\n",
       "    <tr style=\"text-align: right;\">\n",
       "      <th></th>\n",
       "      <th>cool</th>\n",
       "      <th>funny</th>\n",
       "      <th>stars</th>\n",
       "      <th>useful</th>\n",
       "    </tr>\n",
       "  </thead>\n",
       "  <tbody>\n",
       "    <tr>\n",
       "      <th>count</th>\n",
       "      <td>6703.000000</td>\n",
       "      <td>6703.000000</td>\n",
       "      <td>6703.000000</td>\n",
       "      <td>6703.000000</td>\n",
       "    </tr>\n",
       "    <tr>\n",
       "      <th>mean</th>\n",
       "      <td>0.332836</td>\n",
       "      <td>0.374907</td>\n",
       "      <td>3.476652</td>\n",
       "      <td>1.215277</td>\n",
       "    </tr>\n",
       "    <tr>\n",
       "      <th>std</th>\n",
       "      <td>0.902303</td>\n",
       "      <td>1.434581</td>\n",
       "      <td>1.441803</td>\n",
       "      <td>2.218730</td>\n",
       "    </tr>\n",
       "    <tr>\n",
       "      <th>min</th>\n",
       "      <td>0.000000</td>\n",
       "      <td>0.000000</td>\n",
       "      <td>1.000000</td>\n",
       "      <td>0.000000</td>\n",
       "    </tr>\n",
       "    <tr>\n",
       "      <th>25%</th>\n",
       "      <td>0.000000</td>\n",
       "      <td>0.000000</td>\n",
       "      <td>2.000000</td>\n",
       "      <td>0.000000</td>\n",
       "    </tr>\n",
       "    <tr>\n",
       "      <th>50%</th>\n",
       "      <td>0.000000</td>\n",
       "      <td>0.000000</td>\n",
       "      <td>4.000000</td>\n",
       "      <td>0.000000</td>\n",
       "    </tr>\n",
       "    <tr>\n",
       "      <th>75%</th>\n",
       "      <td>0.000000</td>\n",
       "      <td>0.000000</td>\n",
       "      <td>5.000000</td>\n",
       "      <td>2.000000</td>\n",
       "    </tr>\n",
       "    <tr>\n",
       "      <th>max</th>\n",
       "      <td>16.000000</td>\n",
       "      <td>37.000000</td>\n",
       "      <td>5.000000</td>\n",
       "      <td>38.000000</td>\n",
       "    </tr>\n",
       "  </tbody>\n",
       "</table>\n",
       "</div>"
      ],
      "text/plain": [
       "              cool        funny        stars       useful\n",
       "count  6703.000000  6703.000000  6703.000000  6703.000000\n",
       "mean      0.332836     0.374907     3.476652     1.215277\n",
       "std       0.902303     1.434581     1.441803     2.218730\n",
       "min       0.000000     0.000000     1.000000     0.000000\n",
       "25%       0.000000     0.000000     2.000000     0.000000\n",
       "50%       0.000000     0.000000     4.000000     0.000000\n",
       "75%       0.000000     0.000000     5.000000     2.000000\n",
       "max      16.000000    37.000000     5.000000    38.000000"
      ]
     },
     "execution_count": 26,
     "metadata": {},
     "output_type": "execute_result"
    }
   ],
   "source": [
    "reviews_data.describe()"
   ]
  },
  {
   "cell_type": "code",
   "execution_count": 27,
   "metadata": {},
   "outputs": [
    {
     "data": {
      "text/html": [
       "<div>\n",
       "<style scoped>\n",
       "    .dataframe tbody tr th:only-of-type {\n",
       "        vertical-align: middle;\n",
       "    }\n",
       "\n",
       "    .dataframe tbody tr th {\n",
       "        vertical-align: top;\n",
       "    }\n",
       "\n",
       "    .dataframe thead th {\n",
       "        text-align: right;\n",
       "    }\n",
       "</style>\n",
       "<table border=\"1\" class=\"dataframe\">\n",
       "  <thead>\n",
       "    <tr style=\"text-align: right;\">\n",
       "      <th></th>\n",
       "      <th>cool</th>\n",
       "      <th>funny</th>\n",
       "      <th>stars</th>\n",
       "      <th>useful</th>\n",
       "    </tr>\n",
       "  </thead>\n",
       "  <tbody>\n",
       "    <tr>\n",
       "      <th>cool</th>\n",
       "      <td>1.000000</td>\n",
       "      <td>0.386800</td>\n",
       "      <td>0.095492</td>\n",
       "      <td>0.608676</td>\n",
       "    </tr>\n",
       "    <tr>\n",
       "      <th>funny</th>\n",
       "      <td>0.386800</td>\n",
       "      <td>1.000000</td>\n",
       "      <td>-0.133010</td>\n",
       "      <td>0.363115</td>\n",
       "    </tr>\n",
       "    <tr>\n",
       "      <th>stars</th>\n",
       "      <td>0.095492</td>\n",
       "      <td>-0.133010</td>\n",
       "      <td>1.000000</td>\n",
       "      <td>-0.064078</td>\n",
       "    </tr>\n",
       "    <tr>\n",
       "      <th>useful</th>\n",
       "      <td>0.608676</td>\n",
       "      <td>0.363115</td>\n",
       "      <td>-0.064078</td>\n",
       "      <td>1.000000</td>\n",
       "    </tr>\n",
       "  </tbody>\n",
       "</table>\n",
       "</div>"
      ],
      "text/plain": [
       "            cool     funny     stars    useful\n",
       "cool    1.000000  0.386800  0.095492  0.608676\n",
       "funny   0.386800  1.000000 -0.133010  0.363115\n",
       "stars   0.095492 -0.133010  1.000000 -0.064078\n",
       "useful  0.608676  0.363115 -0.064078  1.000000"
      ]
     },
     "execution_count": 27,
     "metadata": {},
     "output_type": "execute_result"
    }
   ],
   "source": [
    "reviews_data.corr()   # corerraltion between numerical data"
   ]
  },
  {
   "cell_type": "markdown",
   "metadata": {},
   "source": [
    "Cool, funny and useful describes the number of cool, funny and useful votes given to the review.\n",
    "From the above dataset description, it is observed that less than 25% of the reviewers has voted the reviews as cool, funny or useful.\n",
    "\n",
    "So, the cool, funny and useful votes data is not useful here.  "
   ]
  },
  {
   "cell_type": "code",
   "execution_count": 28,
   "metadata": {},
   "outputs": [
    {
     "data": {
      "text/html": [
       "<div>\n",
       "<style scoped>\n",
       "    .dataframe tbody tr th:only-of-type {\n",
       "        vertical-align: middle;\n",
       "    }\n",
       "\n",
       "    .dataframe tbody tr th {\n",
       "        vertical-align: top;\n",
       "    }\n",
       "\n",
       "    .dataframe thead th {\n",
       "        text-align: right;\n",
       "    }\n",
       "</style>\n",
       "<table border=\"1\" class=\"dataframe\">\n",
       "  <thead>\n",
       "    <tr style=\"text-align: right;\">\n",
       "      <th></th>\n",
       "      <th>business_id</th>\n",
       "      <th>review_id</th>\n",
       "      <th>stars</th>\n",
       "      <th>text</th>\n",
       "      <th>user_id</th>\n",
       "    </tr>\n",
       "  </thead>\n",
       "  <tbody>\n",
       "    <tr>\n",
       "      <th>2430</th>\n",
       "      <td>VHsNB3pdGVcRgs6C3jt6Zg</td>\n",
       "      <td>MBprl-aByNPROa9GeDOMQQ</td>\n",
       "      <td>4</td>\n",
       "      <td>Perfect little place to sit and enjoy a drink/...</td>\n",
       "      <td>0_FEaXlTnF8mVqa2SFTnig</td>\n",
       "    </tr>\n",
       "  </tbody>\n",
       "</table>\n",
       "</div>"
      ],
      "text/plain": [
       "                 business_id               review_id  stars  \\\n",
       "2430  VHsNB3pdGVcRgs6C3jt6Zg  MBprl-aByNPROa9GeDOMQQ      4   \n",
       "\n",
       "                                                   text  \\\n",
       "2430  Perfect little place to sit and enjoy a drink/...   \n",
       "\n",
       "                     user_id  \n",
       "2430  0_FEaXlTnF8mVqa2SFTnig  "
      ]
     },
     "execution_count": 28,
     "metadata": {},
     "output_type": "execute_result"
    }
   ],
   "source": [
    "reviews_data.drop([\"cool\",\"date\",\"funny\",\"useful\"],axis = 1,inplace=True) # dropping cool, date, funny and useful columns\n",
    "reviews_data.sample()"
   ]
  },
  {
   "cell_type": "markdown",
   "metadata": {},
   "source": [
    "## Data Visualization"
   ]
  },
  {
   "cell_type": "code",
   "execution_count": 29,
   "metadata": {},
   "outputs": [
    {
     "data": {
      "text/plain": [
       "5    2198\n",
       "4    1687\n",
       "1    1044\n",
       "3     974\n",
       "2     800\n",
       "Name: stars, dtype: int64"
      ]
     },
     "execution_count": 29,
     "metadata": {},
     "output_type": "execute_result"
    }
   ],
   "source": [
    "reviews_data.stars.value_counts() # counts the stars rating in the reviews data"
   ]
  },
  {
   "cell_type": "code",
   "execution_count": 30,
   "metadata": {},
   "outputs": [
    {
     "data": {
      "image/png": "[encoded data removed]",
      "text/plain": [
       "<Figure size 432x288 with 1 Axes>"
      ]
     },
     "metadata": {
      "needs_background": "light"
     },
     "output_type": "display_data"
    }
   ],
   "source": [
    "# plotting the stars rating againt count\n",
    "ax = reviews_data.stars.value_counts().plot.bar(figsize=(6,4), title=\"Model count by stars for Reviews\");  \n",
    "ax.set(xlabel = \"stars\", ylabel = \"model count\");"
   ]
  },
  {
   "cell_type": "markdown",
   "metadata": {},
   "source": [
    "From the above chart, we can analyze that the majority of reviews have received 5 start ratings... \n",
    "\n",
    "### Generating a word cloud for more visualization\n",
    "-  Word cloud with stop words and without lemmatiztion to analyze the top words used in the reviews."
   ]
  },
  {
   "cell_type": "code",
   "execution_count": 34,
   "metadata": {},
   "outputs": [
    {
     "data": {
      "text/plain": [
       "<wordcloud.wordcloud.WordCloud at 0x185ba4f5d68>"
      ]
     },
     "execution_count": 34,
     "metadata": {},
     "output_type": "execute_result"
    },
    {
     "data": {
      "image/png": "[encoded data removed]",
      "text/plain": [
       "<Figure size 576x576 with 1 Axes>"
      ]
     },
     "metadata": {
      "needs_background": "light"
     },
     "output_type": "display_data"
    }
   ],
   "source": [
    "text = \" \".join(x for x in reviews_data.text)  # raw reviews\n",
    "\n",
    "# Create stopword list:\n",
    "stop_words = set(STOPWORDS)\n",
    "stop_words.update([\"restaurant\",\"restaurants\", \"food\"])\n",
    "\n",
    "# Generate a word cloud image\n",
    "wordcloud = WordCloud(stopwords = stop_words, min_font_size = 10, background_color = \"white\").generate(text)\n",
    "\n",
    "# Display the generated image:\n",
    "plt.figure(figsize = (8, 8), facecolor = None) \n",
    "plt.imshow(wordcloud, interpolation = 'bilinear')\n",
    "plt.axis(\"off\")\n",
    "\n",
    "# Save the image in the img folder:\n",
    "# wordcloud.to_file(\"Images/before_lemmatization.png\")"
   ]
  },
  {
   "cell_type": "code",
   "execution_count": 35,
   "metadata": {},
   "outputs": [
    {
     "data": {
      "text/html": [
       "<div>\n",
       "<style scoped>\n",
       "    .dataframe tbody tr th:only-of-type {\n",
       "        vertical-align: middle;\n",
       "    }\n",
       "\n",
       "    .dataframe tbody tr th {\n",
       "        vertical-align: top;\n",
       "    }\n",
       "\n",
       "    .dataframe thead th {\n",
       "        text-align: right;\n",
       "    }\n",
       "</style>\n",
       "<table border=\"1\" class=\"dataframe\">\n",
       "  <thead>\n",
       "    <tr style=\"text-align: right;\">\n",
       "      <th></th>\n",
       "      <th>attributes</th>\n",
       "      <th>business_id</th>\n",
       "      <th>categories</th>\n",
       "      <th>name</th>\n",
       "      <th>review_count</th>\n",
       "      <th>stars</th>\n",
       "      <th>state</th>\n",
       "    </tr>\n",
       "  </thead>\n",
       "  <tbody>\n",
       "    <tr>\n",
       "      <th>0</th>\n",
       "      <td>{'WiFi': \"u'no'\", 'RestaurantsReservations': '...</td>\n",
       "      <td>mofOjB6flg-eAWOFbOkHfQ</td>\n",
       "      <td>Sushi Bars, Buffets, Restaurants, Chinese</td>\n",
       "      <td>ChinaTown Buffet</td>\n",
       "      <td>72</td>\n",
       "      <td>2.5</td>\n",
       "      <td>IL</td>\n",
       "    </tr>\n",
       "    <tr>\n",
       "      <th>1</th>\n",
       "      <td>{'RestaurantsGoodForGroups': 'True', 'Business...</td>\n",
       "      <td>m4DwPVxmFDQE_FnGIOa3cQ</td>\n",
       "      <td>Buffets, Chinese, Restaurants</td>\n",
       "      <td>Sunny China Buffet</td>\n",
       "      <td>15</td>\n",
       "      <td>3.5</td>\n",
       "      <td>IL</td>\n",
       "    </tr>\n",
       "    <tr>\n",
       "      <th>2</th>\n",
       "      <td>{'Alcohol': \"u'full_bar'\", 'GoodForKids': 'Fal...</td>\n",
       "      <td>HbK6IfznbVToEaKVC0WcSg</td>\n",
       "      <td>Karaoke, American (Traditional), Nightlife, Ta...</td>\n",
       "      <td>The Clark Bar</td>\n",
       "      <td>24</td>\n",
       "      <td>3.5</td>\n",
       "      <td>IL</td>\n",
       "    </tr>\n",
       "    <tr>\n",
       "      <th>3</th>\n",
       "      <td>{'RestaurantsPriceRange2': '3', 'BusinessParki...</td>\n",
       "      <td>D88CTD2UrsSTsrDDuL04_A</td>\n",
       "      <td>Bakeries, Shopping, Flowers &amp; Gifts, Food, Res...</td>\n",
       "      <td>Jerry's Iga</td>\n",
       "      <td>5</td>\n",
       "      <td>4.0</td>\n",
       "      <td>IL</td>\n",
       "    </tr>\n",
       "    <tr>\n",
       "      <th>4</th>\n",
       "      <td>{'RestaurantsTakeOut': 'True', 'RestaurantsAtt...</td>\n",
       "      <td>o9nGD3J0btXjE9M6IdgZTA</td>\n",
       "      <td>Salad, Delis, Restaurants, Sandwiches, Food</td>\n",
       "      <td>McAlister's Deli</td>\n",
       "      <td>50</td>\n",
       "      <td>3.0</td>\n",
       "      <td>IL</td>\n",
       "    </tr>\n",
       "  </tbody>\n",
       "</table>\n",
       "</div>"
      ],
      "text/plain": [
       "                                          attributes             business_id  \\\n",
       "0  {'WiFi': \"u'no'\", 'RestaurantsReservations': '...  mofOjB6flg-eAWOFbOkHfQ   \n",
       "1  {'RestaurantsGoodForGroups': 'True', 'Business...  m4DwPVxmFDQE_FnGIOa3cQ   \n",
       "2  {'Alcohol': \"u'full_bar'\", 'GoodForKids': 'Fal...  HbK6IfznbVToEaKVC0WcSg   \n",
       "3  {'RestaurantsPriceRange2': '3', 'BusinessParki...  D88CTD2UrsSTsrDDuL04_A   \n",
       "4  {'RestaurantsTakeOut': 'True', 'RestaurantsAtt...  o9nGD3J0btXjE9M6IdgZTA   \n",
       "\n",
       "                                          categories                name  \\\n",
       "0          Sushi Bars, Buffets, Restaurants, Chinese    ChinaTown Buffet   \n",
       "1                      Buffets, Chinese, Restaurants  Sunny China Buffet   \n",
       "2  Karaoke, American (Traditional), Nightlife, Ta...       The Clark Bar   \n",
       "3  Bakeries, Shopping, Flowers & Gifts, Food, Res...         Jerry's Iga   \n",
       "4        Salad, Delis, Restaurants, Sandwiches, Food    McAlister's Deli   \n",
       "\n",
       "   review_count  stars state  \n",
       "0            72    2.5    IL  \n",
       "1            15    3.5    IL  \n",
       "2            24    3.5    IL  \n",
       "3             5    4.0    IL  \n",
       "4            50    3.0    IL  "
      ]
     },
     "execution_count": 35,
     "metadata": {},
     "output_type": "execute_result"
    }
   ],
   "source": [
    "business_data = pd.read_csv(\"data/IL_BusinessData.csv\", header = 0)\n",
    "business_data.head()"
   ]
  },
  {
   "cell_type": "code",
   "execution_count": 36,
   "metadata": {},
   "outputs": [],
   "source": [
    "business_data.drop([\"attributes\"], axis = 1, inplace = True)  # dropping attributes column"
   ]
  },
  {
   "cell_type": "code",
   "execution_count": 37,
   "metadata": {},
   "outputs": [
    {
     "data": {
      "text/html": [
       "<div>\n",
       "<style scoped>\n",
       "    .dataframe tbody tr th:only-of-type {\n",
       "        vertical-align: middle;\n",
       "    }\n",
       "\n",
       "    .dataframe tbody tr th {\n",
       "        vertical-align: top;\n",
       "    }\n",
       "\n",
       "    .dataframe thead th {\n",
       "        text-align: right;\n",
       "    }\n",
       "</style>\n",
       "<table border=\"1\" class=\"dataframe\">\n",
       "  <thead>\n",
       "    <tr style=\"text-align: right;\">\n",
       "      <th></th>\n",
       "      <th>business_id</th>\n",
       "      <th>categories</th>\n",
       "      <th>name</th>\n",
       "      <th>review_count</th>\n",
       "      <th>stars</th>\n",
       "      <th>state</th>\n",
       "    </tr>\n",
       "  </thead>\n",
       "  <tbody>\n",
       "    <tr>\n",
       "      <th>646</th>\n",
       "      <td>nsSfCKW9KDB4COj9bzXApw</td>\n",
       "      <td>American (Traditional), Seafood, Restaurants</td>\n",
       "      <td>Red Lobster</td>\n",
       "      <td>54</td>\n",
       "      <td>3.0</td>\n",
       "      <td>IL</td>\n",
       "    </tr>\n",
       "  </tbody>\n",
       "</table>\n",
       "</div>"
      ],
      "text/plain": [
       "                business_id                                    categories  \\\n",
       "646  nsSfCKW9KDB4COj9bzXApw  American (Traditional), Seafood, Restaurants   \n",
       "\n",
       "            name  review_count  stars state  \n",
       "646  Red Lobster            54    3.0    IL  "
      ]
     },
     "execution_count": 37,
     "metadata": {},
     "output_type": "execute_result"
    }
   ],
   "source": [
    "business_data.sample() # sample business dataset"
   ]
  },
  {
   "cell_type": "code",
   "execution_count": 38,
   "metadata": {},
   "outputs": [
    {
     "name": "stdout",
     "output_type": "stream",
     "text": [
      "<class 'pandas.core.frame.DataFrame'>\n",
      "RangeIndex: 672 entries, 0 to 671\n",
      "Data columns (total 6 columns):\n",
      "business_id     672 non-null object\n",
      "categories      672 non-null object\n",
      "name            672 non-null object\n",
      "review_count    672 non-null int64\n",
      "stars           672 non-null float64\n",
      "state           672 non-null object\n",
      "dtypes: float64(1), int64(1), object(4)\n",
      "memory usage: 31.6+ KB\n"
     ]
    }
   ],
   "source": [
    "business_data.info() # summary of the business dataset"
   ]
  },
  {
   "cell_type": "code",
   "execution_count": 39,
   "metadata": {},
   "outputs": [
    {
     "data": {
      "text/html": [
       "<div>\n",
       "<style scoped>\n",
       "    .dataframe tbody tr th:only-of-type {\n",
       "        vertical-align: middle;\n",
       "    }\n",
       "\n",
       "    .dataframe tbody tr th {\n",
       "        vertical-align: top;\n",
       "    }\n",
       "\n",
       "    .dataframe thead th {\n",
       "        text-align: right;\n",
       "    }\n",
       "</style>\n",
       "<table border=\"1\" class=\"dataframe\">\n",
       "  <thead>\n",
       "    <tr style=\"text-align: right;\">\n",
       "      <th></th>\n",
       "      <th>review_count</th>\n",
       "      <th>stars</th>\n",
       "    </tr>\n",
       "  </thead>\n",
       "  <tbody>\n",
       "    <tr>\n",
       "      <th>count</th>\n",
       "      <td>672.000000</td>\n",
       "      <td>672.000000</td>\n",
       "    </tr>\n",
       "    <tr>\n",
       "      <th>mean</th>\n",
       "      <td>41.372024</td>\n",
       "      <td>3.328869</td>\n",
       "    </tr>\n",
       "    <tr>\n",
       "      <th>std</th>\n",
       "      <td>66.431065</td>\n",
       "      <td>0.804069</td>\n",
       "    </tr>\n",
       "    <tr>\n",
       "      <th>min</th>\n",
       "      <td>3.000000</td>\n",
       "      <td>1.000000</td>\n",
       "    </tr>\n",
       "    <tr>\n",
       "      <th>25%</th>\n",
       "      <td>9.000000</td>\n",
       "      <td>3.000000</td>\n",
       "    </tr>\n",
       "    <tr>\n",
       "      <th>50%</th>\n",
       "      <td>21.000000</td>\n",
       "      <td>3.500000</td>\n",
       "    </tr>\n",
       "    <tr>\n",
       "      <th>75%</th>\n",
       "      <td>47.000000</td>\n",
       "      <td>4.000000</td>\n",
       "    </tr>\n",
       "    <tr>\n",
       "      <th>max</th>\n",
       "      <td>790.000000</td>\n",
       "      <td>5.000000</td>\n",
       "    </tr>\n",
       "  </tbody>\n",
       "</table>\n",
       "</div>"
      ],
      "text/plain": [
       "       review_count       stars\n",
       "count    672.000000  672.000000\n",
       "mean      41.372024    3.328869\n",
       "std       66.431065    0.804069\n",
       "min        3.000000    1.000000\n",
       "25%        9.000000    3.000000\n",
       "50%       21.000000    3.500000\n",
       "75%       47.000000    4.000000\n",
       "max      790.000000    5.000000"
      ]
     },
     "execution_count": 39,
     "metadata": {},
     "output_type": "execute_result"
    }
   ],
   "source": [
    "business_data.describe()"
   ]
  },
  {
   "cell_type": "code",
   "execution_count": 40,
   "metadata": {},
   "outputs": [
    {
     "data": {
      "text/plain": [
       "3.5    176\n",
       "3.0    143\n",
       "4.0    129\n",
       "2.5     67\n",
       "4.5     65\n",
       "2.0     53\n",
       "1.5     22\n",
       "5.0     15\n",
       "1.0      2\n",
       "Name: stars, dtype: int64"
      ]
     },
     "execution_count": 40,
     "metadata": {},
     "output_type": "execute_result"
    }
   ],
   "source": [
    "business_data.stars.value_counts()  # counts the stars rating in the business data"
   ]
  },
  {
   "cell_type": "code",
   "execution_count": 41,
   "metadata": {},
   "outputs": [
    {
     "data": {
      "text/html": [
       "<div>\n",
       "<style scoped>\n",
       "    .dataframe tbody tr th:only-of-type {\n",
       "        vertical-align: middle;\n",
       "    }\n",
       "\n",
       "    .dataframe tbody tr th {\n",
       "        vertical-align: top;\n",
       "    }\n",
       "\n",
       "    .dataframe thead th {\n",
       "        text-align: right;\n",
       "    }\n",
       "</style>\n",
       "<table border=\"1\" class=\"dataframe\">\n",
       "  <thead>\n",
       "    <tr style=\"text-align: right;\">\n",
       "      <th></th>\n",
       "      <th>review_count</th>\n",
       "      <th>stars</th>\n",
       "    </tr>\n",
       "  </thead>\n",
       "  <tbody>\n",
       "    <tr>\n",
       "      <th>review_count</th>\n",
       "      <td>1.000000</td>\n",
       "      <td>0.224105</td>\n",
       "    </tr>\n",
       "    <tr>\n",
       "      <th>stars</th>\n",
       "      <td>0.224105</td>\n",
       "      <td>1.000000</td>\n",
       "    </tr>\n",
       "  </tbody>\n",
       "</table>\n",
       "</div>"
      ],
      "text/plain": [
       "              review_count     stars\n",
       "review_count      1.000000  0.224105\n",
       "stars             0.224105  1.000000"
      ]
     },
     "execution_count": 41,
     "metadata": {},
     "output_type": "execute_result"
    }
   ],
   "source": [
    "business_data.corr()   # correlation between numeric data in the business dataset"
   ]
  },
  {
   "cell_type": "code",
   "execution_count": 42,
   "metadata": {},
   "outputs": [
    {
     "data": {
      "image/png": "[encoded data removed]",
      "text/plain": [
       "<Figure size 432x288 with 1 Axes>"
      ]
     },
     "metadata": {
      "needs_background": "light"
     },
     "output_type": "display_data"
    }
   ],
   "source": [
    "# plotting the stars rating againt count for business data\n",
    "\n",
    "ax = business_data.stars.value_counts().plot.bar(figsize=(6,4), title=\"Model count by stars for Businesses\");\n",
    "ax.set(xlabel = \"stars\", ylabel = \"model count\");"
   ]
  },
  {
   "cell_type": "code",
   "execution_count": 43,
   "metadata": {},
   "outputs": [],
   "source": [
    "plt.show()"
   ]
  },
  {
   "cell_type": "code",
   "execution_count": null,
   "metadata": {},
   "outputs": [],
   "source": []
  }
 ],
 "metadata": {
  "kernelspec": {
   "display_name": "Python 3",
   "language": "python",
   "name": "python3"
  },
  "language_info": {
   "codemirror_mode": {
    "name": "ipython",
    "version": 3
   },
   "file_extension": ".py",
   "mimetype": "text/x-python",
   "name": "python",
   "nbconvert_exporter": "python",
   "pygments_lexer": "ipython3",
   "version": "3.6.7"
  }
 },
 "nbformat": 4,
 "nbformat_minor": 2
}
