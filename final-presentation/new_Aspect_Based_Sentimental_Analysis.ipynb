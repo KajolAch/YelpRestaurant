{
 "cells": [
  {
   "cell_type": "code",
   "execution_count": 1,
   "metadata": {},
   "outputs": [],
   "source": [
    "import pandas as pd\n",
    "import numpy as np\n",
    "import corenlp\n",
    "import nltk\n",
    "from textblob import TextBlob\n",
    "from nltk.tokenize import sent_tokenize\n",
    "from nltk.tokenize import word_tokenize\n",
    "import string"
   ]
  },
  {
   "cell_type": "markdown",
   "metadata": {},
   "source": [
    "<B>The 'Labeled_IL_Reviews.csv' has 1000 samples that are labeled with the aspect terms</B>"
   ]
  },
  {
   "cell_type": "code",
   "execution_count": 2,
   "metadata": {},
   "outputs": [],
   "source": [
    "df_Labeled = pd.read_csv(\"./Labeled_IL_Reviews.csv\")"
   ]
  },
  {
   "cell_type": "code",
   "execution_count": 3,
   "metadata": {},
   "outputs": [
    {
     "data": {
      "text/html": [
       "<div>\n",
       "<style scoped>\n",
       "    .dataframe tbody tr th:only-of-type {\n",
       "        vertical-align: middle;\n",
       "    }\n",
       "\n",
       "    .dataframe tbody tr th {\n",
       "        vertical-align: top;\n",
       "    }\n",
       "\n",
       "    .dataframe thead th {\n",
       "        text-align: right;\n",
       "    }\n",
       "</style>\n",
       "<table border=\"1\" class=\"dataframe\">\n",
       "  <thead>\n",
       "    <tr style=\"text-align: right;\">\n",
       "      <th></th>\n",
       "      <th>business_id</th>\n",
       "      <th>cool</th>\n",
       "      <th>date</th>\n",
       "      <th>funny</th>\n",
       "      <th>review_id</th>\n",
       "      <th>stars</th>\n",
       "      <th>text</th>\n",
       "      <th>useful</th>\n",
       "      <th>user_id</th>\n",
       "      <th>tags</th>\n",
       "    </tr>\n",
       "  </thead>\n",
       "  <tbody>\n",
       "    <tr>\n",
       "      <th>0</th>\n",
       "      <td>mofOjB6flg-eAWOFbOkHfQ</td>\n",
       "      <td>0</td>\n",
       "      <td>12-02-2017 20:22</td>\n",
       "      <td>0</td>\n",
       "      <td>8MTptiOpUeuPUFZgtfk9Vw</td>\n",
       "      <td>1</td>\n",
       "      <td>I would have given this restaurant zero stars ...</td>\n",
       "      <td>1</td>\n",
       "      <td>9-vNlkNQL7OJQZ7-U965Ww</td>\n",
       "      <td>Cleanliness, Food</td>\n",
       "    </tr>\n",
       "    <tr>\n",
       "      <th>1</th>\n",
       "      <td>mofOjB6flg-eAWOFbOkHfQ</td>\n",
       "      <td>0</td>\n",
       "      <td>12/16/2017 4:31</td>\n",
       "      <td>0</td>\n",
       "      <td>ofpfzn8LV4nJ2pE6IlTVdg</td>\n",
       "      <td>1</td>\n",
       "      <td>So...no. Just...no. Before I picked up a plate...</td>\n",
       "      <td>1</td>\n",
       "      <td>#NAME?</td>\n",
       "      <td>Cleanliness, Food, Service</td>\n",
       "    </tr>\n",
       "    <tr>\n",
       "      <th>2</th>\n",
       "      <td>mofOjB6flg-eAWOFbOkHfQ</td>\n",
       "      <td>0</td>\n",
       "      <td>07-03-2016 20:57</td>\n",
       "      <td>1</td>\n",
       "      <td>O3yApCw95tbA0kodflQrpA</td>\n",
       "      <td>5</td>\n",
       "      <td>The best food I want to the a lot of the buffe...</td>\n",
       "      <td>0</td>\n",
       "      <td>ShcyA_bTtqudK4eaSbtLGA</td>\n",
       "      <td>Food, Service</td>\n",
       "    </tr>\n",
       "  </tbody>\n",
       "</table>\n",
       "</div>"
      ],
      "text/plain": [
       "              business_id  cool              date  funny  \\\n",
       "0  mofOjB6flg-eAWOFbOkHfQ     0  12-02-2017 20:22      0   \n",
       "1  mofOjB6flg-eAWOFbOkHfQ     0   12/16/2017 4:31      0   \n",
       "2  mofOjB6flg-eAWOFbOkHfQ     0  07-03-2016 20:57      1   \n",
       "\n",
       "                review_id  stars  \\\n",
       "0  8MTptiOpUeuPUFZgtfk9Vw      1   \n",
       "1  ofpfzn8LV4nJ2pE6IlTVdg      1   \n",
       "2  O3yApCw95tbA0kodflQrpA      5   \n",
       "\n",
       "                                                text  useful  \\\n",
       "0  I would have given this restaurant zero stars ...       1   \n",
       "1  So...no. Just...no. Before I picked up a plate...       1   \n",
       "2  The best food I want to the a lot of the buffe...       0   \n",
       "\n",
       "                  user_id                        tags  \n",
       "0  9-vNlkNQL7OJQZ7-U965Ww           Cleanliness, Food  \n",
       "1                  #NAME?  Cleanliness, Food, Service  \n",
       "2  ShcyA_bTtqudK4eaSbtLGA               Food, Service  "
      ]
     },
     "execution_count": 3,
     "metadata": {},
     "output_type": "execute_result"
    }
   ],
   "source": [
    "df_Labeled.head(3)"
   ]
  },
  {
   "cell_type": "markdown",
   "metadata": {},
   "source": [
    "<B>columns like cool, date and funny are not useful for are analysis so we just drop it</B>"
   ]
  },
  {
   "cell_type": "code",
   "execution_count": 4,
   "metadata": {},
   "outputs": [],
   "source": [
    "df_Labeled = df_Labeled.drop([\"cool\",\"date\",\"funny\"],axis = 1)"
   ]
  },
  {
   "cell_type": "code",
   "execution_count": 5,
   "metadata": {},
   "outputs": [
    {
     "data": {
      "text/html": [
       "<div>\n",
       "<style scoped>\n",
       "    .dataframe tbody tr th:only-of-type {\n",
       "        vertical-align: middle;\n",
       "    }\n",
       "\n",
       "    .dataframe tbody tr th {\n",
       "        vertical-align: top;\n",
       "    }\n",
       "\n",
       "    .dataframe thead th {\n",
       "        text-align: right;\n",
       "    }\n",
       "</style>\n",
       "<table border=\"1\" class=\"dataframe\">\n",
       "  <thead>\n",
       "    <tr style=\"text-align: right;\">\n",
       "      <th></th>\n",
       "      <th>business_id</th>\n",
       "      <th>review_id</th>\n",
       "      <th>stars</th>\n",
       "      <th>text</th>\n",
       "      <th>useful</th>\n",
       "      <th>user_id</th>\n",
       "      <th>tags</th>\n",
       "    </tr>\n",
       "  </thead>\n",
       "  <tbody>\n",
       "    <tr>\n",
       "      <th>0</th>\n",
       "      <td>mofOjB6flg-eAWOFbOkHfQ</td>\n",
       "      <td>8MTptiOpUeuPUFZgtfk9Vw</td>\n",
       "      <td>1</td>\n",
       "      <td>I would have given this restaurant zero stars ...</td>\n",
       "      <td>1</td>\n",
       "      <td>9-vNlkNQL7OJQZ7-U965Ww</td>\n",
       "      <td>Cleanliness, Food</td>\n",
       "    </tr>\n",
       "    <tr>\n",
       "      <th>1</th>\n",
       "      <td>mofOjB6flg-eAWOFbOkHfQ</td>\n",
       "      <td>ofpfzn8LV4nJ2pE6IlTVdg</td>\n",
       "      <td>1</td>\n",
       "      <td>So...no. Just...no. Before I picked up a plate...</td>\n",
       "      <td>1</td>\n",
       "      <td>#NAME?</td>\n",
       "      <td>Cleanliness, Food, Service</td>\n",
       "    </tr>\n",
       "    <tr>\n",
       "      <th>2</th>\n",
       "      <td>mofOjB6flg-eAWOFbOkHfQ</td>\n",
       "      <td>O3yApCw95tbA0kodflQrpA</td>\n",
       "      <td>5</td>\n",
       "      <td>The best food I want to the a lot of the buffe...</td>\n",
       "      <td>0</td>\n",
       "      <td>ShcyA_bTtqudK4eaSbtLGA</td>\n",
       "      <td>Food, Service</td>\n",
       "    </tr>\n",
       "  </tbody>\n",
       "</table>\n",
       "</div>"
      ],
      "text/plain": [
       "              business_id               review_id  stars  \\\n",
       "0  mofOjB6flg-eAWOFbOkHfQ  8MTptiOpUeuPUFZgtfk9Vw      1   \n",
       "1  mofOjB6flg-eAWOFbOkHfQ  ofpfzn8LV4nJ2pE6IlTVdg      1   \n",
       "2  mofOjB6flg-eAWOFbOkHfQ  O3yApCw95tbA0kodflQrpA      5   \n",
       "\n",
       "                                                text  useful  \\\n",
       "0  I would have given this restaurant zero stars ...       1   \n",
       "1  So...no. Just...no. Before I picked up a plate...       1   \n",
       "2  The best food I want to the a lot of the buffe...       0   \n",
       "\n",
       "                  user_id                        tags  \n",
       "0  9-vNlkNQL7OJQZ7-U965Ww           Cleanliness, Food  \n",
       "1                  #NAME?  Cleanliness, Food, Service  \n",
       "2  ShcyA_bTtqudK4eaSbtLGA               Food, Service  "
      ]
     },
     "execution_count": 5,
     "metadata": {},
     "output_type": "execute_result"
    }
   ],
   "source": [
    "df_Labeled.head(3)"
   ]
  },
  {
   "cell_type": "code",
   "execution_count": 6,
   "metadata": {},
   "outputs": [],
   "source": [
    "df_inList = df_Labeled.values.tolist()"
   ]
  },
  {
   "cell_type": "markdown",
   "metadata": {},
   "source": [
    "<B>A sample of the data is shown below</B>"
   ]
  },
  {
   "cell_type": "code",
   "execution_count": 7,
   "metadata": {},
   "outputs": [
    {
     "data": {
      "text/plain": [
       "['mofOjB6flg-eAWOFbOkHfQ',\n",
       " '8MTptiOpUeuPUFZgtfk9Vw',\n",
       " 1,\n",
       " 'I would have given this restaurant zero stars if the app allowed it. This is a disgusting restaurant. You can find roaches lurching around the food. The clean dishes next to buffet items are mostly dirty. Just look at the bottom of the plate. This restaurant should really be inspected by authorities.',\n",
       " 1,\n",
       " '9-vNlkNQL7OJQZ7-U965Ww',\n",
       " 'Cleanliness, Food']"
      ]
     },
     "execution_count": 7,
     "metadata": {},
     "output_type": "execute_result"
    }
   ],
   "source": [
    "df_inList[0]"
   ]
  },
  {
   "cell_type": "code",
   "execution_count": 8,
   "metadata": {},
   "outputs": [],
   "source": [
    "food_aspects = []\n",
    "ambience_aspects = []\n",
    "cleanliness_aspects = []\n",
    "service_aspects = []"
   ]
  },
  {
   "cell_type": "markdown",
   "metadata": {},
   "source": [
    "<B>The file Aspect.csv has all the aspect terms that we got from word2vec </B>"
   ]
  },
  {
   "cell_type": "code",
   "execution_count": 9,
   "metadata": {},
   "outputs": [],
   "source": [
    "df_Aspect = pd.read_csv(\"Aspect.csv\")"
   ]
  },
  {
   "cell_type": "code",
   "execution_count": 10,
   "metadata": {},
   "outputs": [],
   "source": [
    "service_aspects_word = df_Aspect.Service.to_list()\n",
    "food_aspects_word = df_Aspect.Food.to_list()\n",
    "cleanliness_aspects_word = df_Aspect.Cleanliness.to_list()\n",
    "ambience_aspects_word = df_Aspect.Ambience.to_list()"
   ]
  },
  {
   "cell_type": "markdown",
   "metadata": {},
   "source": [
    "<B> The method 'addItProperly' adds the review to the given label for example if the parameter label is 'food' then it adds the parameter 'review' to 'food' list"
   ]
  },
  {
   "cell_type": "code",
   "execution_count": 11,
   "metadata": {},
   "outputs": [],
   "source": [
    "def addItProperly(label,review):\n",
    "    label = label.lower().strip()\n",
    "    if label == \"food\":\n",
    "        food_aspects.append(review)\n",
    "        pass\n",
    "    elif label == \"ambience\":\n",
    "        ambience_aspects.append(review)\n",
    "        pass\n",
    "    elif label == \"cleanliness\":\n",
    "        cleanliness_aspects.append(review)\n",
    "        pass\n",
    "    elif label == \"service\":\n",
    "        service_aspects.append(review)\n",
    "        pass"
   ]
  },
  {
   "cell_type": "markdown",
   "metadata": {},
   "source": [
    "<B>The method 'getLabel' gives the aspect of the input paramter by checking it with Aspect.csv</B>"
   ]
  },
  {
   "cell_type": "code",
   "execution_count": 13,
   "metadata": {},
   "outputs": [],
   "source": [
    "def getLabel(text):\n",
    "    temp = nltk.pos_tag(nltk.word_tokenize(text))\n",
    "    nounList = [val for val in temp if \"NN\" in val[1]]\n",
    "    category = \"\"\n",
    "    for val in nounList:\n",
    "        if val[0] in food_aspects_word:\n",
    "            category = \"food\"\n",
    "        elif val[0] in service_aspects_word:\n",
    "            category = \"service\"\n",
    "        elif val[0] in cleanliness_aspects_word:\n",
    "            category = \"cleanliness\"\n",
    "        elif val[0] in ambience_aspects_word:\n",
    "            category = \"ambience\"\n",
    "            pass\n",
    "    else:\n",
    "        return category\n",
    "    return \"wrong\""
   ]
  },
  {
   "cell_type": "code",
   "execution_count": 14,
   "metadata": {},
   "outputs": [],
   "source": [
    "def check_if_present(done,word,s):\n",
    "    for val in done:\n",
    "        if val[0] == word:\n",
    "            return True\n",
    "    return False"
   ]
  },
  {
   "cell_type": "markdown",
   "metadata": {},
   "source": [
    "The method 'aspect_based_sentimental_analysis' gives the sentiment analysis for the input parameters it first performs sentence tokenization then It first checks how many aspects does the review belongs to if it has only one aspect then we get the polarity for that review directly. If it has multiple aspect then it first checks the noun term and the adjective and it's dependent adjective and gives it to TextBlob library which gives the polarity for each review."
   ]
  },
  {
   "cell_type": "code",
   "execution_count": 15,
   "metadata": {},
   "outputs": [],
   "source": [
    "def aspect_based_sentimental_analysis(df_inList):\n",
    "    for index, val in enumerate(df_inList):\n",
    "        Label_Count = len([temp.strip() for temp in val[6].split(\",\")]) # val[6] is the label count\n",
    "        if Label_Count == 1:\n",
    "            sentence_Tokenized = sent_tokenize(val[3])\n",
    "            one_review_sentiment = []\n",
    "            for sent_val in sentence_Tokenized:\n",
    "                s = TextBlob(sent_val).sentiment.polarity\n",
    "                if s!=0:\n",
    "                    one_review_sentiment.append(s)\n",
    "                pass\n",
    "            if len(one_review_sentiment) !=0 :\n",
    "                df_inList[index].append(sum(one_review_sentiment)/len(one_review_sentiment))\n",
    "                pass\n",
    "            else:\n",
    "                df_inList[index].append(0)\n",
    "            pass\n",
    "            addItProperly([temp.strip() for temp in val[6].split(\",\")][0],df_inList[index])\n",
    "        else:\n",
    "            sentence_Tokenized = sent_tokenize(val[3]) # val[3] gives the text of the data\n",
    "            for sent_val in sentence_Tokenized:\n",
    "                done = []\n",
    "                with corenlp.CoreNLPClient(timeout=30000,annotators=\"openie\".split()) as client:\n",
    "                    ann = client.annotate(sent_val)\n",
    "                te = ann.sentence[0]\n",
    "                for check in te.enhancedDependencies.edge:\n",
    "                    if \"amod\" in check.dep or \"nsubj\" in check.dep:\n",
    "                        v1 = te.token[check.target - 1].pos\n",
    "                        v2 = te.token[check.source - 1].pos\n",
    "                        if (\"NN\" in v1 and \"JJ\" in v2) or (\"JJ\" in v1 and \"NN\" in v2):\n",
    "                            print(\"NN and JJ\")\n",
    "                            se = te.token[check.target - 1].word + \" \" + te.token[check.source - 1].word\n",
    "                            s = TextBlob(sent_val).sentiment.polarity\n",
    "                            print(f\"sentence is {sent_val} and polarity is {s}\")\n",
    "                            if (s!= 0) and (not check_if_present(done,v1,s)) and (not check_if_present(done,v2,s)):\n",
    "                                reviewLabel = getLabel(sent_val)\n",
    "                                copy = val[:]\n",
    "                                copy[3] = sent_val\n",
    "                                copy[6] = reviewLabel\n",
    "                                copy.append(s)\n",
    "                                done.append([v1,s])\n",
    "                                done.append([v2,s])\n",
    "                                addItProperly(reviewLabel,copy)\n",
    "                        pass\n",
    "                    elif check.dep == \"asdf\":\n",
    "                        pass\n",
    "                    pass\n",
    "                pass\n",
    "            pass\n",
    "        pass\n",
    "    return df_inList"
   ]
  },
  {
   "cell_type": "markdown",
   "metadata": {},
   "source": [
    "<B> It takes too much time so we have ran it for first five reviews. </B>"
   ]
  },
  {
   "cell_type": "code",
   "execution_count": 16,
   "metadata": {
    "scrolled": false
   },
   "outputs": [
    {
     "name": "stdout",
     "output_type": "stream",
     "text": [
      "NN and JJ\n",
      "sentence is This is a disgusting restaurant. and polarity is -1.0\n",
      "NN and JJ\n",
      "sentence is The clean dishes next to buffet items are mostly dirty. and polarity is -0.07777777777777777\n",
      "NN and JJ\n",
      "sentence is I alerted a waitress, who acted as if it was nothing new, and she removed the tongs the roach was crawling on. and polarity is 0.13636363636363635\n",
      "NN and JJ\n",
      "sentence is The best food I want to the a lot of the buffet restaurant this is the best place to eat and Great service and polarity is 0.9333333333333332\n",
      "NN and JJ\n",
      "sentence is Aside from that the bathroom condition was dirty everywhere. and polarity is -0.6\n",
      "NN and JJ\n",
      "sentence is The floor was sticky in the main part of the restaurant and especially around where I sat. and polarity is 0.08333333333333333\n",
      "NN and JJ\n",
      "sentence is Even the area where the staff hung out, where the drinks were dispensed, was very dirty. and polarity is -0.78\n",
      "NN and JJ\n",
      "sentence is The only worthwhile feature is that the food is plentiful. and polarity is 0.25\n",
      "NN and JJ\n",
      "sentence is There is no longer fish to be found at the \"sushi-sashimi\" bar. and polarity is 0.0\n",
      "NN and JJ\n",
      "sentence is It's veggies and rice only (they used to serve fish, at least last time I was here a year or two ago). and polarity is -0.09999999999999999\n",
      "NN and JJ\n",
      "sentence is I like to eat someplace clean with better food. and polarity is 0.43333333333333335\n"
     ]
    }
   ],
   "source": [
    "temp_df = aspect_based_sentimental_analysis(df_inList[:5])"
   ]
  },
  {
   "cell_type": "markdown",
   "metadata": {},
   "source": [
    "<B>food_aspects has all the reviews that belonged to food aspect</B>"
   ]
  },
  {
   "cell_type": "code",
   "execution_count": 17,
   "metadata": {
    "scrolled": false
   },
   "outputs": [
    {
     "data": {
      "text/plain": [
       "[['mofOjB6flg-eAWOFbOkHfQ',\n",
       "  '8MTptiOpUeuPUFZgtfk9Vw',\n",
       "  1,\n",
       "  'This is a disgusting restaurant.',\n",
       "  1,\n",
       "  '9-vNlkNQL7OJQZ7-U965Ww',\n",
       "  'food',\n",
       "  -1.0],\n",
       " ['mofOjB6flg-eAWOFbOkHfQ',\n",
       "  'fFTVZE7EENdl66SX9cgc0A',\n",
       "  1,\n",
       "  'The floor was sticky in the main part of the restaurant and especially around where I sat.',\n",
       "  0,\n",
       "  'oxcEFkXu_icNyp59Lb8GMQ',\n",
       "  'food',\n",
       "  0.08333333333333333],\n",
       " ['mofOjB6flg-eAWOFbOkHfQ',\n",
       "  'pDlIw6DLLjZ5G1vJnMzr9A',\n",
       "  5,\n",
       "  'I was visiting the Champaign area with my family who just recently moved there.  And they suggested that I try this buffet.  When I got there was amazed how good their food is.  It is far better than my regular buffet in Lansing.  If I ever return back to Champaign I will be going back, even though it is a little pricy.',\n",
       "  0,\n",
       "  'szNYE9rpw4Dv-J0LFs5R7g',\n",
       "  'Food',\n",
       "  0.2791666666666666]]"
      ]
     },
     "execution_count": 17,
     "metadata": {},
     "output_type": "execute_result"
    }
   ],
   "source": [
    "food_aspects"
   ]
  },
  {
   "cell_type": "markdown",
   "metadata": {},
   "source": [
    "<B>cleanliness_aspects has all the reviews that belonged to cleanliness aspect</B>"
   ]
  },
  {
   "cell_type": "code",
   "execution_count": 19,
   "metadata": {},
   "outputs": [
    {
     "data": {
      "text/plain": [
       "[['mofOjB6flg-eAWOFbOkHfQ',\n",
       "  '8MTptiOpUeuPUFZgtfk9Vw',\n",
       "  1,\n",
       "  'The clean dishes next to buffet items are mostly dirty.',\n",
       "  1,\n",
       "  '9-vNlkNQL7OJQZ7-U965Ww',\n",
       "  'cleanliness',\n",
       "  -0.07777777777777777],\n",
       " ['mofOjB6flg-eAWOFbOkHfQ',\n",
       "  'ofpfzn8LV4nJ2pE6IlTVdg',\n",
       "  1,\n",
       "  'I alerted a waitress, who acted as if it was nothing new, and she removed the tongs the roach was crawling on.',\n",
       "  1,\n",
       "  '#NAME?',\n",
       "  'cleanliness',\n",
       "  0.13636363636363635],\n",
       " ['mofOjB6flg-eAWOFbOkHfQ',\n",
       "  'fFTVZE7EENdl66SX9cgc0A',\n",
       "  1,\n",
       "  'Aside from that the bathroom condition was dirty everywhere.',\n",
       "  0,\n",
       "  'oxcEFkXu_icNyp59Lb8GMQ',\n",
       "  'cleanliness',\n",
       "  -0.6],\n",
       " ['mofOjB6flg-eAWOFbOkHfQ',\n",
       "  'fFTVZE7EENdl66SX9cgc0A',\n",
       "  1,\n",
       "  'I like to eat someplace clean with better food.',\n",
       "  0,\n",
       "  'oxcEFkXu_icNyp59Lb8GMQ',\n",
       "  'cleanliness',\n",
       "  0.43333333333333335]]"
      ]
     },
     "execution_count": 19,
     "metadata": {},
     "output_type": "execute_result"
    }
   ],
   "source": [
    "cleanliness_aspects"
   ]
  },
  {
   "cell_type": "markdown",
   "metadata": {},
   "source": [
    "<B>service_aspects has all the reviews that belonged to service aspect</B>"
   ]
  },
  {
   "cell_type": "code",
   "execution_count": 20,
   "metadata": {},
   "outputs": [
    {
     "data": {
      "text/plain": [
       "[['mofOjB6flg-eAWOFbOkHfQ',\n",
       "  'O3yApCw95tbA0kodflQrpA',\n",
       "  5,\n",
       "  'The best food I want to the a lot of the buffet restaurant this is the best place to eat and Great service',\n",
       "  0,\n",
       "  'ShcyA_bTtqudK4eaSbtLGA',\n",
       "  'service',\n",
       "  0.9333333333333332],\n",
       " ['mofOjB6flg-eAWOFbOkHfQ',\n",
       "  'fFTVZE7EENdl66SX9cgc0A',\n",
       "  1,\n",
       "  'Even the area where the staff hung out, where the drinks were dispensed, was very dirty.',\n",
       "  0,\n",
       "  'oxcEFkXu_icNyp59Lb8GMQ',\n",
       "  'service',\n",
       "  -0.78]]"
      ]
     },
     "execution_count": 20,
     "metadata": {},
     "output_type": "execute_result"
    }
   ],
   "source": [
    "service_aspects"
   ]
  },
  {
   "cell_type": "markdown",
   "metadata": {},
   "source": [
    "<B> get_rating method converts the sentiment to rating </B>"
   ]
  },
  {
   "cell_type": "markdown",
   "metadata": {},
   "source": [
    "To get rating from polarity we use the following technique:- <br>\n",
    "- First we check if the rating is positive then we multiple it by 5. \n",
    "- If the rating is less than 0 then we give it one star."
   ]
  },
  {
   "cell_type": "code",
   "execution_count": 25,
   "metadata": {},
   "outputs": [],
   "source": [
    "def get_rating(df_list):\n",
    "    for val in df_list:\n",
    "#         val[7] is the polarity \n",
    "        if val[7] < 0:\n",
    "            val[7] = 1\n",
    "        else:\n",
    "            val[7] = 5 * val[7]\n",
    "    return df_list"
   ]
  },
  {
   "cell_type": "code",
   "execution_count": 26,
   "metadata": {},
   "outputs": [],
   "source": [
    "pd.DataFrame(get_rating(food_aspects)).to_csv(\"./result/food_reviews.csv\")"
   ]
  },
  {
   "cell_type": "code",
   "execution_count": 27,
   "metadata": {},
   "outputs": [],
   "source": [
    "pd.DataFrame(get_rating(service_aspects)).to_csv(\"./result/service_reviews.csv\")"
   ]
  },
  {
   "cell_type": "code",
   "execution_count": 28,
   "metadata": {},
   "outputs": [],
   "source": [
    "pd.DataFrame(get_rating(cleanliness_aspects)).to_csv(\"./result/cleanliness_reviews.csv\")"
   ]
  },
  {
   "cell_type": "code",
   "execution_count": 29,
   "metadata": {},
   "outputs": [],
   "source": [
    "pd.DataFrame(get_rating(ambience_aspects)).to_csv(\"./result/ambience_reviews.csv\")"
   ]
  },
  {
   "cell_type": "markdown",
   "metadata": {},
   "source": [
    "# Conclusion"
   ]
  },
  {
   "cell_type": "markdown",
   "metadata": {},
   "source": [
    "For checking the work we verified it with restaurant that has business_id as '5-Z7VmiTqD4ycnrxfBJGmQ'."
   ]
  },
  {
   "cell_type": "markdown",
   "metadata": {},
   "source": [
    "It has 3 reviews and the rating for them are as follows"
   ]
  },
  {
   "cell_type": "markdown",
   "metadata": {},
   "source": [
    "<B>1. Decent pizza if you like thin crust. Sometimes great sometimes iffy customer service.</B>\n",
    "- Here the Food aspect is 0.166.\n",
    "- The service aspect is 0.8"
   ]
  },
  {
   "cell_type": "markdown",
   "metadata": {},
   "source": [
    "<B>2. Slow service, they burn the pizza and it is always a complete zoo.  Skip this one and drive to Champaign.</B><br>\n",
    "This review tells only about the service aspect \n",
    "- Service aspect is -0.33"
   ]
  },
  {
   "cell_type": "markdown",
   "metadata": {},
   "source": [
    "<B>3. This is the pizza place in town that we order from the most.  We are partial to their crispy thin crust pizza.  The food always tastes great just as we expect.  Frequently (at least 50% of the time) they get our order wrong.</B>\n",
    "- Here the food aspect is 0.8\n",
    "- The service aspect is -0.4"
   ]
  },
  {
   "cell_type": "markdown",
   "metadata": {},
   "source": [
    "###### When we calculate the average rating for that restaurant for all the aspects then it comes out to be\n",
    "- Food - 2.4\n",
    "- Service - 1.79"
   ]
  },
  {
   "cell_type": "markdown",
   "metadata": {},
   "source": [
    "### So we can conclude that the restaurant is not overall bad. It just needs to improve it's service aspect to increase customer."
   ]
  },
  {
   "cell_type": "markdown",
   "metadata": {},
   "source": [
    "# Future work"
   ]
  },
  {
   "cell_type": "markdown",
   "metadata": {},
   "source": [
    "As of now, our application tells the rating about the aspects. We aim to make this project to be used in real life for that we require many other features so we plane to include the following features.\n",
    "- Search options based on cuisine, music, location, etc.\n",
    "- Select a restaurant based on the signature dish, waiting time, food items."
   ]
  },
  {
   "cell_type": "markdown",
   "metadata": {},
   "source": [
    "A user could get answers for the following type of questions like\n",
    "- Best Chinese restaurant near me\n",
    "- Which restaurant has the best pizza\n",
    "- When is the waiting time higher?"
   ]
  }
 ],
 "metadata": {
  "kernelspec": {
   "display_name": "Python 3",
   "language": "python",
   "name": "python3"
  },
  "language_info": {
   "codemirror_mode": {
    "name": "ipython",
    "version": 3
   },
   "file_extension": ".py",
   "mimetype": "text/x-python",
   "name": "python",
   "nbconvert_exporter": "python",
   "pygments_lexer": "ipython3",
   "version": "3.6.8"
  }
 },
 "nbformat": 4,
 "nbformat_minor": 2
}
