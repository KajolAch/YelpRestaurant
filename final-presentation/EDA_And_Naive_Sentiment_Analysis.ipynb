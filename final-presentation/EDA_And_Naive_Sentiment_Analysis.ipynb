{
 "cells": [
  {
   "cell_type": "markdown",
   "metadata": {
    "colab_type": "text",
    "id": "tuknBcfy99mh"
   },
   "source": [
    "# **Aspect Based Sentiment Analysis on Yelp Customer Reviews**\n",
    "\n",
    "\n",
    "## **Motivation and objectives** : \n",
    "\n",
    "The reputation of any business entity is driven by its customer ratings and reviews. The hospitality industry is no exception to this rule, and the reputation of restaurants as well depends on the same. \n",
    "\n",
    "Positive reviews can lead to increase in business revenue, whereas negative ones can drive away potential customers and affect the business prestige, profitability and trustworthiness.\n",
    "\n",
    "Customers search for restaurants in search engines and/or local-search services like Yelp.com. Nowadays everyone checks online rating and reviews before visiting the restaurant. Ratings displayed online gives an overall review of the restaurant, but fails to provide details regarding important features/aspect like the quality of food, quality of service, ambience, cleanliness, price, etc. \n",
    "\n",
    "Currently, customers have to read through the reviews, to analyze the restaurant and select the one that best suits their personal preferences. If a customer wants to know the restaurant rating based on some specific aspects they have to read many reviews and check if any review mentions something about it.\n",
    "\n",
    "To make the process of finding restaurants more personalized and convenient, we have come up with a project idea to create a model that provides ratings for different aspects of the restaurants based on the customer reviews on Yelp."
   ]
  },
  {
   "cell_type": "markdown",
   "metadata": {
    "colab_type": "text",
    "id": "q5pz7f3PBgh5"
   },
   "source": [
    "## **Introduction, related work, and what's new:**\n",
    "\n",
    "In our project we have planned to label/tag each review based context of the review. The context (basically aspects in nlp) is categorized into four categories which are mentioned below: \n",
    "\n",
    "1.  Ambience\n",
    "2.  Cleanliness\n",
    "3.  Food\n",
    "4.  Service\n",
    "\n",
    "Each review is rated based on these aspects. The ratings are computed by peforming sentiment analysis on the reviews based on each and every aspect it involves. \n",
    "\n",
    "The related work to our project is also perfomed in semEval 2016 (http://alt.qcri.org/semeval2016).\n"
   ]
  },
  {
   "cell_type": "markdown",
   "metadata": {
    "colab_type": "text",
    "id": "sCtJQrcVkUfs"
   },
   "source": [
    "## **Agenda - Final Project  Report**\n",
    "1. EDA\n",
    "    1. Dataset Description\n",
    "    2. Null Values\n",
    "    3. Data Visualization\n",
    "    4. Naive sentiment analysis\n",
    "2. Text classification\n",
    "    1. Classification with logistic regression\n",
    "    2. Classification with CNN\n",
    "    3. Accuracy comparison for the algorithms\n",
    "    4. Topic modeling with LDA\n",
    "3. Extracting aspect terms\n",
    "    1. Word-to-vec for extracting aspect terms\n",
    "    2. Word cloud for each aspect term\n",
    "4. Aspect based sentiment analysis\n",
    "    1. Sentence tokenization\n",
    "    2. POS tagging\n",
    "    3. Polarity based sentiment mining\n",
    "5. Inference\n",
    "    1. Average rating of a restaurant with naive sentiment analysis Vs Aspect based ratings of a restaurant\n",
    "    2. What kind of questions our application can answer now\n",
    "6. Future work\n",
    "    1. What kind of questions we want our application to answer in the future"
   ]
  },
  {
   "cell_type": "markdown",
   "metadata": {
    "colab_type": "text",
    "id": "rL-_YvbpdCjV"
   },
   "source": [
    "## Project Description"
   ]
  },
  {
   "cell_type": "markdown",
   "metadata": {
    "colab_type": "text",
    "id": "SRnOOA0Hc5jg"
   },
   "source": [
    "This project aims to give detailed ratings for restaurants based on customer reviews and ratings. The features considered are: service, ambience, food(taste, quality, etc.), and cleanliness. Each restaurant will be given ratings for each of these features after analyzing customer reviews. The Yelp dataset is being used for this analysis. It's available online and can be downloaded from the link below:\n",
    "\n",
    "https://www.yelp.com/dataset"
   ]
  },
  {
   "cell_type": "markdown",
   "metadata": {
    "colab_type": "text",
    "id": "OlPOn191dSTA"
   },
   "source": [
    "## Dataset"
   ]
  },
  {
   "cell_type": "markdown",
   "metadata": {
    "colab_type": "text",
    "id": "iDAGFmSvdWBz"
   },
   "source": [
    "The dataset is downloaded from Yelp official website. It has reviews for business entities in the United States of America and Canada. The downloaded data is in JSON format. It has 6 files: business.json, review.json, user.json, checkin.json, tip.json, and photo.json. The file that will be of interest to us is review.json.\n",
    "\n",
    "The Yelp dataset has reviews for different business entities such as Groceries, Furnitures, Plumbing, etc. apart from restaurant reviews. So the dataset has around 6 million reviews.\n",
    "\n"
   ]
  },
  {
   "cell_type": "markdown",
   "metadata": {
    "colab_type": "text",
    "id": "EE6mVtQodZ00"
   },
   "source": [
    "## Data Preprocessing"
   ]
  },
  {
   "cell_type": "markdown",
   "metadata": {
    "colab_type": "text",
    "id": "ONeEjP0FdmIa"
   },
   "source": [
    "Since the data had business entities apart from restaurants, our first step was to filter businesses and reviews that belong to restaurant domain. The following extracts restaurant business from business.json file."
   ]
  },
  {
   "cell_type": "code",
   "execution_count": 0,
   "metadata": {
    "colab": {},
    "colab_type": "code",
    "id": "jogLjYVZ8C6_"
   },
   "outputs": [],
   "source": [
    "import pandas as pd\n",
    "import numpy as np\n",
    "import matplotlib.pyplot as plt"
   ]
  },
  {
   "cell_type": "code",
   "execution_count": 0,
   "metadata": {
    "colab": {},
    "colab_type": "code",
    "id": "EI9nFSJigPeA"
   },
   "outputs": [],
   "source": [
    "def filter_restaurant_businesses(file):\n",
    "    df = pd.read_json(file, lines=True)\n",
    "    filtered_df = df[(df.categories.str.contains('Restaurants')==True) & (df.state.str.contains('IL')==True)]\n",
    "    il_business = filtered_df.business_id.to_string(index=False)\n",
    "    with open('./il_business_ids.txt', 'w') as outfile:\n",
    "        outfile.write(il_business)\n",
    "        \n",
    "    categories_dict = {'business_id': filtered_df.business_id.to_list(), 'categories': filtered_df.categories.to_list(), 'state': filtered_df.state.to_list()}    \n",
    "    restaurant_df = pd.DataFrame(data=categories_dict)\n",
    "    grouped_by_states = restaurant_df[['business_id', 'categories', 'state']].groupby(['state']).agg(['count'])\n",
    "    print(grouped_by_states) #59371 restaurants in all. NY restaurants - 12. IL - 672\n",
    "    \n",
    "    with open(\"./il_business_ids.txt\",\"r\") as il_business_ids:\n",
    "    sample = il_business_ids.readline()\n",
    "    print(sample)"
   ]
  },
  {
   "cell_type": "markdown",
   "metadata": {
    "colab_type": "text",
    "id": "Mk3IE4vozLVF"
   },
   "source": [
    "By filtering the restaurant businesses and grouping them by states, the following are some statistics that was observed: \n",
    "* There are 59,371 restaurants in total\n",
    "* The state-wide restaurant count: \n",
    "          \n",
    "state - restaurant count<br>                       \n",
    "AB  -    3035<br>\n",
    "AL  -     1<br>\n",
    "AR  -       1<br>\n",
    "AZ  -   11465<br>\n",
    "BC  -       1<br>\n",
    "CA  -       1<br>\n",
    "CON -       1<br>\n",
    "FL  -       1<br>\n",
    "IL  -     672<br>\n",
    "NC  -    4326<br>\n",
    "NE  -       1<br>\n",
    "NM  -       1<br>\n",
    "NV  -    7783<br>\n",
    "NY  -      12<br>\n",
    "OH  -    5522<br>\n",
    "ON  -   14831<br>\n",
    "PA  -    4001<br>\n",
    "QC  -    5622<br>\n",
    "SC  -     384<br>\n",
    "TX  -       1<br>\n",
    "VA  -       1<br>\n",
    "VT  -       1<br>\n",
    "WA  -       1<br>\n",
    "WI  -    1703<br>\n",
    "XGM -       1<br>\n",
    "XWY -       2<br>\n",
    "\n",
    "\n",
    "#### We decided to use retaurants in Illinois for our analysis. "
   ]
  },
  {
   "cell_type": "markdown",
   "metadata": {
    "colab_type": "text",
    "id": "HLcYU0ez0BWR"
   },
   "source": [
    "*   The business ids that belong to Illinois state are extracted and stored in a file named \"il_business_ids.txt\".\n",
    "*   The review.json file is very large to work with so, we have split it into blocks using the following command and save these blocks of reviews into reviews_2000000.json.\n",
    "\n"
   ]
  },
  {
   "cell_type": "markdown",
   "metadata": {
    "colab_type": "text",
    "id": "UUiJjUmk0Ijw"
   },
   "source": [
    "head -2000000 review.json > reviews_2000000.json"
   ]
  },
  {
   "cell_type": "markdown",
   "metadata": {
    "colab_type": "text",
    "id": "2OzV587P0NDo"
   },
   "source": [
    "Now, the IL_Reviews are filtered out from  reviews_2000000.json data by matching the business id's from \"il_business_ids.txt\" and stroed into a csv file."
   ]
  },
  {
   "cell_type": "code",
   "execution_count": 0,
   "metadata": {
    "colab": {},
    "colab_type": "code",
    "id": "PViD1mD4sxI2"
   },
   "outputs": [],
   "source": [
    "def filter_il_reviews(file):\n",
    "    df = pd.read_json(file, lines=True)\n",
    "    business_ids = df.business_id.to_list()\n",
    "    df.set_index('business_id', inplace=True)\n",
    "    reviews_df = pd.DataFrame()\n",
    "\n",
    "    with open('./il_business_ids.txt', 'r') as infile:\n",
    "        for b_id in infile:\n",
    "            b_id = b_id.strip()\n",
    "            if b_id in business_ids:\n",
    "                data = df.loc[[b_id]]\n",
    "                reviews_df = reviews_df.append(data)\n",
    "    with open('./il_reviews.csv', 'a') as outfile:\n",
    "        reviews_df.to_csv(outfile, header=False)"
   ]
  },
  {
   "cell_type": "markdown",
   "metadata": {
    "colab_type": "text",
    "id": "bfyPfmgPw77C"
   },
   "source": [
    "**The Filtered Dataset:**"
   ]
  },
  {
   "cell_type": "code",
   "execution_count": 36,
   "metadata": {
    "colab": {},
    "colab_type": "code",
    "id": "Dn6Z2-d8xLkN"
   },
   "outputs": [
    {
     "data": {
      "text/html": [
       "<div>\n",
       "<style scoped>\n",
       "    .dataframe tbody tr th:only-of-type {\n",
       "        vertical-align: middle;\n",
       "    }\n",
       "\n",
       "    .dataframe tbody tr th {\n",
       "        vertical-align: top;\n",
       "    }\n",
       "\n",
       "    .dataframe thead th {\n",
       "        text-align: right;\n",
       "    }\n",
       "</style>\n",
       "<table border=\"1\" class=\"dataframe\">\n",
       "  <thead>\n",
       "    <tr style=\"text-align: right;\">\n",
       "      <th></th>\n",
       "      <th>business_id</th>\n",
       "      <th>cool</th>\n",
       "      <th>date</th>\n",
       "      <th>funny</th>\n",
       "      <th>review_id</th>\n",
       "      <th>stars</th>\n",
       "      <th>text</th>\n",
       "      <th>useful</th>\n",
       "      <th>user_id</th>\n",
       "    </tr>\n",
       "  </thead>\n",
       "  <tbody>\n",
       "    <tr>\n",
       "      <th>0</th>\n",
       "      <td>mofOjB6flg-eAWOFbOkHfQ</td>\n",
       "      <td>0</td>\n",
       "      <td>12/2/2017 20:22</td>\n",
       "      <td>0</td>\n",
       "      <td>8MTptiOpUeuPUFZgtfk9Vw</td>\n",
       "      <td>1</td>\n",
       "      <td>I would have given this restaurant zero stars ...</td>\n",
       "      <td>1</td>\n",
       "      <td>9-vNlkNQL7OJQZ7-U965Ww</td>\n",
       "    </tr>\n",
       "    <tr>\n",
       "      <th>1</th>\n",
       "      <td>mofOjB6flg-eAWOFbOkHfQ</td>\n",
       "      <td>0</td>\n",
       "      <td>12/16/2017 4:31</td>\n",
       "      <td>0</td>\n",
       "      <td>ofpfzn8LV4nJ2pE6IlTVdg</td>\n",
       "      <td>1</td>\n",
       "      <td>So...no. Just...no. Before I picked up a plate...</td>\n",
       "      <td>1</td>\n",
       "      <td>#NAME?</td>\n",
       "    </tr>\n",
       "  </tbody>\n",
       "</table>\n",
       "</div>"
      ],
      "text/plain": [
       "              business_id  cool             date  funny  \\\n",
       "0  mofOjB6flg-eAWOFbOkHfQ     0  12/2/2017 20:22      0   \n",
       "1  mofOjB6flg-eAWOFbOkHfQ     0  12/16/2017 4:31      0   \n",
       "\n",
       "                review_id  stars  \\\n",
       "0  8MTptiOpUeuPUFZgtfk9Vw      1   \n",
       "1  ofpfzn8LV4nJ2pE6IlTVdg      1   \n",
       "\n",
       "                                                text  useful  \\\n",
       "0  I would have given this restaurant zero stars ...       1   \n",
       "1  So...no. Just...no. Before I picked up a plate...       1   \n",
       "\n",
       "                  user_id  \n",
       "0  9-vNlkNQL7OJQZ7-U965Ww  \n",
       "1                  #NAME?  "
      ]
     },
     "execution_count": 36,
     "metadata": {},
     "output_type": "execute_result"
    }
   ],
   "source": [
    "import pandas as pd\n",
    "\n",
    "reviews_data = pd.read_csv(\"../data/il_reviews.csv\")\n",
    "\n",
    "reviews_data.head(2)"
   ]
  },
  {
   "cell_type": "markdown",
   "metadata": {
    "colab_type": "text",
    "id": "wcm8y904xsLR"
   },
   "source": [
    "# Exploratory Data Analysis\n",
    "\n",
    "##1. Dataset Description\n",
    "          \n",
    "  The dataset consists of 6703 samples of reviews and the dataset profile can be analyzed below:\n",
    "\n",
    "1.   Total number of restaurants - 184\n",
    "2.   Maximum reviews - 173\n",
    "3.   Minimum reviews - 3"
   ]
  },
  {
   "cell_type": "code",
   "execution_count": 10,
   "metadata": {
    "colab": {},
    "colab_type": "code",
    "id": "Yx3qr4lBx0Ph"
   },
   "outputs": [
    {
     "data": {
      "text/html": [
       "<div>\n",
       "<style scoped>\n",
       "    .dataframe tbody tr th:only-of-type {\n",
       "        vertical-align: middle;\n",
       "    }\n",
       "\n",
       "    .dataframe tbody tr th {\n",
       "        vertical-align: top;\n",
       "    }\n",
       "\n",
       "    .dataframe thead th {\n",
       "        text-align: right;\n",
       "    }\n",
       "</style>\n",
       "<table border=\"1\" class=\"dataframe\">\n",
       "  <thead>\n",
       "    <tr style=\"text-align: right;\">\n",
       "      <th></th>\n",
       "      <th>cool</th>\n",
       "      <th>funny</th>\n",
       "      <th>stars</th>\n",
       "      <th>useful</th>\n",
       "    </tr>\n",
       "  </thead>\n",
       "  <tbody>\n",
       "    <tr>\n",
       "      <th>count</th>\n",
       "      <td>6703.000000</td>\n",
       "      <td>6703.000000</td>\n",
       "      <td>6703.000000</td>\n",
       "      <td>6703.000000</td>\n",
       "    </tr>\n",
       "    <tr>\n",
       "      <th>mean</th>\n",
       "      <td>0.332836</td>\n",
       "      <td>0.374907</td>\n",
       "      <td>3.476652</td>\n",
       "      <td>1.215277</td>\n",
       "    </tr>\n",
       "    <tr>\n",
       "      <th>std</th>\n",
       "      <td>0.902303</td>\n",
       "      <td>1.434581</td>\n",
       "      <td>1.441803</td>\n",
       "      <td>2.218730</td>\n",
       "    </tr>\n",
       "    <tr>\n",
       "      <th>min</th>\n",
       "      <td>0.000000</td>\n",
       "      <td>0.000000</td>\n",
       "      <td>1.000000</td>\n",
       "      <td>0.000000</td>\n",
       "    </tr>\n",
       "    <tr>\n",
       "      <th>25%</th>\n",
       "      <td>0.000000</td>\n",
       "      <td>0.000000</td>\n",
       "      <td>2.000000</td>\n",
       "      <td>0.000000</td>\n",
       "    </tr>\n",
       "    <tr>\n",
       "      <th>50%</th>\n",
       "      <td>0.000000</td>\n",
       "      <td>0.000000</td>\n",
       "      <td>4.000000</td>\n",
       "      <td>0.000000</td>\n",
       "    </tr>\n",
       "    <tr>\n",
       "      <th>75%</th>\n",
       "      <td>0.000000</td>\n",
       "      <td>0.000000</td>\n",
       "      <td>5.000000</td>\n",
       "      <td>2.000000</td>\n",
       "    </tr>\n",
       "    <tr>\n",
       "      <th>max</th>\n",
       "      <td>16.000000</td>\n",
       "      <td>37.000000</td>\n",
       "      <td>5.000000</td>\n",
       "      <td>38.000000</td>\n",
       "    </tr>\n",
       "  </tbody>\n",
       "</table>\n",
       "</div>"
      ],
      "text/plain": [
       "              cool        funny        stars       useful\n",
       "count  6703.000000  6703.000000  6703.000000  6703.000000\n",
       "mean      0.332836     0.374907     3.476652     1.215277\n",
       "std       0.902303     1.434581     1.441803     2.218730\n",
       "min       0.000000     0.000000     1.000000     0.000000\n",
       "25%       0.000000     0.000000     2.000000     0.000000\n",
       "50%       0.000000     0.000000     4.000000     0.000000\n",
       "75%       0.000000     0.000000     5.000000     2.000000\n",
       "max      16.000000    37.000000     5.000000    38.000000"
      ]
     },
     "execution_count": 10,
     "metadata": {},
     "output_type": "execute_result"
    }
   ],
   "source": [
    "reviews_data.describe()"
   ]
  },
  {
   "cell_type": "code",
   "execution_count": 11,
   "metadata": {
    "colab": {},
    "colab_type": "code",
    "id": "6656LmEp0YLA"
   },
   "outputs": [
    {
     "data": {
      "text/html": [
       "<div>\n",
       "<style scoped>\n",
       "    .dataframe tbody tr th:only-of-type {\n",
       "        vertical-align: middle;\n",
       "    }\n",
       "\n",
       "    .dataframe tbody tr th {\n",
       "        vertical-align: top;\n",
       "    }\n",
       "\n",
       "    .dataframe thead th {\n",
       "        text-align: right;\n",
       "    }\n",
       "</style>\n",
       "<table border=\"1\" class=\"dataframe\">\n",
       "  <thead>\n",
       "    <tr style=\"text-align: right;\">\n",
       "      <th></th>\n",
       "      <th>cool</th>\n",
       "      <th>funny</th>\n",
       "      <th>stars</th>\n",
       "      <th>useful</th>\n",
       "    </tr>\n",
       "  </thead>\n",
       "  <tbody>\n",
       "    <tr>\n",
       "      <th>cool</th>\n",
       "      <td>1.000000</td>\n",
       "      <td>0.386800</td>\n",
       "      <td>0.095492</td>\n",
       "      <td>0.608676</td>\n",
       "    </tr>\n",
       "    <tr>\n",
       "      <th>funny</th>\n",
       "      <td>0.386800</td>\n",
       "      <td>1.000000</td>\n",
       "      <td>-0.133010</td>\n",
       "      <td>0.363115</td>\n",
       "    </tr>\n",
       "    <tr>\n",
       "      <th>stars</th>\n",
       "      <td>0.095492</td>\n",
       "      <td>-0.133010</td>\n",
       "      <td>1.000000</td>\n",
       "      <td>-0.064078</td>\n",
       "    </tr>\n",
       "    <tr>\n",
       "      <th>useful</th>\n",
       "      <td>0.608676</td>\n",
       "      <td>0.363115</td>\n",
       "      <td>-0.064078</td>\n",
       "      <td>1.000000</td>\n",
       "    </tr>\n",
       "  </tbody>\n",
       "</table>\n",
       "</div>"
      ],
      "text/plain": [
       "            cool     funny     stars    useful\n",
       "cool    1.000000  0.386800  0.095492  0.608676\n",
       "funny   0.386800  1.000000 -0.133010  0.363115\n",
       "stars   0.095492 -0.133010  1.000000 -0.064078\n",
       "useful  0.608676  0.363115 -0.064078  1.000000"
      ]
     },
     "execution_count": 11,
     "metadata": {},
     "output_type": "execute_result"
    }
   ],
   "source": [
    "reviews_data.corr()"
   ]
  },
  {
   "cell_type": "markdown",
   "metadata": {
    "colab_type": "text",
    "id": "rpEJwZ1Mx5_J"
   },
   "source": [
    "Cool, funny and useful describes the number of cool, funny and useful votes given to the review. From the above dataset description, it is observed that less than 25% of the reviewers has voted the reviews as cool, funny or useful. So, the cool, funny and useful votes data is not useful for our project model. Also, columns such as user_id is irrelevant for further analysis.\n",
    "\n",
    "So, we decided to remove these columns from the dataset."
   ]
  },
  {
   "cell_type": "code",
   "execution_count": 12,
   "metadata": {
    "colab": {},
    "colab_type": "code",
    "id": "5igZrHH70O3y"
   },
   "outputs": [
    {
     "data": {
      "text/html": [
       "<div>\n",
       "<style scoped>\n",
       "    .dataframe tbody tr th:only-of-type {\n",
       "        vertical-align: middle;\n",
       "    }\n",
       "\n",
       "    .dataframe tbody tr th {\n",
       "        vertical-align: top;\n",
       "    }\n",
       "\n",
       "    .dataframe thead th {\n",
       "        text-align: right;\n",
       "    }\n",
       "</style>\n",
       "<table border=\"1\" class=\"dataframe\">\n",
       "  <thead>\n",
       "    <tr style=\"text-align: right;\">\n",
       "      <th></th>\n",
       "      <th>business_id</th>\n",
       "      <th>review_id</th>\n",
       "      <th>stars</th>\n",
       "      <th>text</th>\n",
       "    </tr>\n",
       "  </thead>\n",
       "  <tbody>\n",
       "    <tr>\n",
       "      <th>184</th>\n",
       "      <td>pCer-vIZM05p423MFmiSng</td>\n",
       "      <td>U6wNslpXKu2LIWguBEfFYg</td>\n",
       "      <td>3</td>\n",
       "      <td>Location is good. they have interesting sushi ...</td>\n",
       "    </tr>\n",
       "  </tbody>\n",
       "</table>\n",
       "</div>"
      ],
      "text/plain": [
       "                business_id               review_id  stars  \\\n",
       "184  pCer-vIZM05p423MFmiSng  U6wNslpXKu2LIWguBEfFYg      3   \n",
       "\n",
       "                                                  text  \n",
       "184  Location is good. they have interesting sushi ...  "
      ]
     },
     "execution_count": 12,
     "metadata": {},
     "output_type": "execute_result"
    }
   ],
   "source": [
    "reviews_data.drop([\"cool\",\"date\",\"funny\",\"useful\", \"user_id\"],axis = 1,inplace=True) # dropping cool, date, funny and useful columns\n",
    "reviews_data.sample()"
   ]
  },
  {
   "cell_type": "markdown",
   "metadata": {
    "colab_type": "text",
    "id": "BnyYa1Hl2tFb"
   },
   "source": [
    "## 2. Null Values\n",
    "\n",
    "No null values were found in the dataset"
   ]
  },
  {
   "cell_type": "code",
   "execution_count": 41,
   "metadata": {},
   "outputs": [
    {
     "name": "stdout",
     "output_type": "stream",
     "text": [
      "Reviews with NULL values:\n",
      "0\n",
      "Restaurant ids with NULL values:\n",
      "0\n",
      "Ratings with NULL values:\n",
      "0\n"
     ]
    }
   ],
   "source": [
    "text = reviews_data['text']\n",
    "print (\"Reviews with NULL values:\")\n",
    "print (reviews_data['text'].isnull().sum())\n",
    "\n",
    "restaurant = reviews_data['business_id']\n",
    "print (\"Restaurant ids with NULL values:\")\n",
    "print (restaurant.isnull().sum())\n",
    "\n",
    "ratings = reviews_data['stars']\n",
    "print (\"Ratings with NULL values:\")\n",
    "print (ratings.isnull().sum())\n"
   ]
  },
  {
   "cell_type": "markdown",
   "metadata": {
    "colab_type": "text",
    "id": "NUYFvfCF1nhP"
   },
   "source": [
    "## 3. Data Visualization"
   ]
  },
  {
   "cell_type": "code",
   "execution_count": 14,
   "metadata": {
    "colab": {},
    "colab_type": "code",
    "id": "qQxjdaQC1u5I"
   },
   "outputs": [
    {
     "data": {
      "image/png": "[encoded data removed]",
      "text/plain": [
       "<Figure size 432x288 with 1 Axes>"
      ]
     },
     "metadata": {
      "needs_background": "light"
     },
     "output_type": "display_data"
    }
   ],
   "source": [
    "import numpy as np\n",
    "import pandas as pd\n",
    "import nltk\n",
    "import seaborn as sns\n",
    "%matplotlib inline\n",
    "import matplotlib.pyplot as plt\n",
    "\n",
    "# plotting the stars rating againt count\n",
    "ax = reviews_data.stars.value_counts().plot.bar(figsize=(6,4), title=\"Model count by stars for Reviews\");  \n",
    "ax.set(xlabel = \"stars\", ylabel = \"model count\");"
   ]
  },
  {
   "cell_type": "markdown",
   "metadata": {
    "colab_type": "text",
    "id": "837gsT1s1yo6"
   },
   "source": [
    "From the above chart, we can analyze that the majority of reviews have received 5 start ratings and 50% of the reviews have 1 star rating."
   ]
  },
  {
   "cell_type": "markdown",
   "metadata": {
    "colab_type": "text",
    "id": "RBDpl-pR2V06"
   },
   "source": [
    "#### Average rating for each restaurant\n",
    "\n",
    "<img src=\"./Images/Average_rating_business_ids.png\" width='50%'>"
   ]
  },
  {
   "cell_type": "markdown",
   "metadata": {
    "colab_type": "text",
    "id": "cNymH71-2_04"
   },
   "source": [
    "# Naive Sentimental Analysis"
   ]
  },
  {
   "cell_type": "markdown",
   "metadata": {
    "colab_type": "text",
    "id": "xaTBl2A03DTD"
   },
   "source": [
    "Naive sentiment analysis is performed to get a feel of the dataset and the have a sense of the review sentiments for further analysis."
   ]
  },
  {
   "cell_type": "code",
   "execution_count": 28,
   "metadata": {
    "colab": {},
    "colab_type": "code",
    "id": "7Ji90CYm3D6S"
   },
   "outputs": [
    {
     "name": "stderr",
     "output_type": "stream",
     "text": [
      "C:\\Users\\harsh\\Anaconda3\\lib\\site-packages\\ipykernel_launcher.py:21: FutureWarning: Method .as_matrix will be removed in a future version. Use .values instead.\n"
     ]
    }
   ],
   "source": [
    "from sklearn.preprocessing import MultiLabelBinarizer\n",
    "from sklearn.metrics import classification_report\n",
    "from keras.models import Sequential\n",
    "from keras.layers import Dense, Dropout, Activation\n",
    "from keras.optimizers import SGD\n",
    "from keras.preprocessing.text import Tokenizer\n",
    "\n",
    "\n",
    "# Reading positive and negative words text file\n",
    "with open(\"./Sentimental_Analysis_Text_File/positive-words.txt\",'r') as f:\n",
    "    positive_words=[line.strip() for line in f]\n",
    "with open(\"./Sentimental_Analysis_Text_File/negative-words.txt\",'r') as f:\n",
    "    negative_words=[line.strip() for line in f]\n",
    "    \n",
    "# Reading positive and negative words text file\n",
    "df = pd.read_csv(\"../data/il_reviews.csv\")\n",
    "\n",
    "df.drop([\"cool\",\"date\",\"funny\",\"useful\"],axis = 1,inplace=True)\n",
    "\n",
    "# Pre-processing Reviews data\n",
    "processedData = list(df[[\"business_id\",\"text\",\"user_id\"]].as_matrix())\n",
    "\n",
    "# Performs naive Sentiment Analysis \n",
    "def naive_sentiment(x):\n",
    "    res = []\n",
    "    ans = []\n",
    "    positive_tokens=[]\n",
    "    negative_tokens=[]\n",
    "    negations=['not', 'too', 'n\\'t', 'no', 'cannot', 'neither','nor']\n",
    "    final_review=[]\n",
    "    data = x[1]\n",
    "    for val in sent_tokenize(data):\n",
    "        val = val.strip(string.punctuation)\n",
    "        for token in word_tokenize(val):\n",
    "            if token in positive_words:   \n",
    "                  positive_tokens.append(token)\n",
    "            else:\n",
    "                  if token in negative_words:\n",
    "                        negative_tokens.append(token)\n",
    "                    \n",
    "    if len(positive_tokens)>len(negative_tokens):\n",
    "        final_review.append(\"positive\")  \n",
    "    else:\n",
    "        if len(negative_tokens)>len(positive_tokens):\n",
    "            final_review.append(\"negative\")\n",
    "        else:\n",
    "            if len(positive_tokens)==len(negative_tokens):\n",
    "                final_review.append(\"neutral\")  \n",
    "    return final_review"
   ]
  },
  {
   "cell_type": "code",
   "execution_count": 27,
   "metadata": {},
   "outputs": [
    {
     "ename": "NameError",
     "evalue": "name 'sent_tokenize' is not defined",
     "output_type": "error",
     "traceback": [
      "\u001b[1;31m---------------------------------------------------------------------------\u001b[0m",
      "\u001b[1;31mNameError\u001b[0m                                 Traceback (most recent call last)",
      "\u001b[1;32m<ipython-input-27-81c8de3f622d>\u001b[0m in \u001b[0;36m<module>\u001b[1;34m\u001b[0m\n\u001b[1;32m----> 1\u001b[1;33m \u001b[0mprocessed_doc\u001b[0m \u001b[1;33m=\u001b[0m \u001b[0mlist\u001b[0m\u001b[1;33m(\u001b[0m\u001b[0mmap\u001b[0m\u001b[1;33m(\u001b[0m\u001b[0mnaive_sentiment\u001b[0m\u001b[1;33m,\u001b[0m\u001b[0mprocessedData\u001b[0m\u001b[1;33m)\u001b[0m\u001b[1;33m)\u001b[0m\u001b[1;33m\u001b[0m\u001b[1;33m\u001b[0m\u001b[0m\n\u001b[0m",
      "\u001b[1;32m<ipython-input-26-762c1f5401f8>\u001b[0m in \u001b[0;36mnaive_sentiment\u001b[1;34m(x)\u001b[0m\n\u001b[0;32m     30\u001b[0m     \u001b[0mfinal_review\u001b[0m\u001b[1;33m=\u001b[0m\u001b[1;33m[\u001b[0m\u001b[1;33m]\u001b[0m\u001b[1;33m\u001b[0m\u001b[1;33m\u001b[0m\u001b[0m\n\u001b[0;32m     31\u001b[0m     \u001b[0mdata\u001b[0m \u001b[1;33m=\u001b[0m \u001b[0mx\u001b[0m\u001b[1;33m[\u001b[0m\u001b[1;36m1\u001b[0m\u001b[1;33m]\u001b[0m\u001b[1;33m\u001b[0m\u001b[1;33m\u001b[0m\u001b[0m\n\u001b[1;32m---> 32\u001b[1;33m     \u001b[1;32mfor\u001b[0m \u001b[0mval\u001b[0m \u001b[1;32min\u001b[0m \u001b[0msent_tokenize\u001b[0m\u001b[1;33m(\u001b[0m\u001b[0mdata\u001b[0m\u001b[1;33m)\u001b[0m\u001b[1;33m:\u001b[0m\u001b[1;33m\u001b[0m\u001b[1;33m\u001b[0m\u001b[0m\n\u001b[0m\u001b[0;32m     33\u001b[0m         \u001b[0mval\u001b[0m \u001b[1;33m=\u001b[0m \u001b[0mval\u001b[0m\u001b[1;33m.\u001b[0m\u001b[0mstrip\u001b[0m\u001b[1;33m(\u001b[0m\u001b[0mstring\u001b[0m\u001b[1;33m.\u001b[0m\u001b[0mpunctuation\u001b[0m\u001b[1;33m)\u001b[0m\u001b[1;33m\u001b[0m\u001b[1;33m\u001b[0m\u001b[0m\n\u001b[0;32m     34\u001b[0m         \u001b[1;32mfor\u001b[0m \u001b[0mtoken\u001b[0m \u001b[1;32min\u001b[0m \u001b[0mword_tokenize\u001b[0m\u001b[1;33m(\u001b[0m\u001b[0mval\u001b[0m\u001b[1;33m)\u001b[0m\u001b[1;33m:\u001b[0m\u001b[1;33m\u001b[0m\u001b[1;33m\u001b[0m\u001b[0m\n",
      "\u001b[1;31mNameError\u001b[0m: name 'sent_tokenize' is not defined"
     ]
    }
   ],
   "source": [
    "processed_doc = list(map(naive_sentiment,processedData))"
   ]
  },
  {
   "cell_type": "markdown",
   "metadata": {
    "colab_type": "text",
    "id": "c79TeZyE3crT"
   },
   "source": [
    "Plotting the naive sentiment analysis results below:"
   ]
  },
  {
   "cell_type": "code",
   "execution_count": 29,
   "metadata": {
    "colab": {},
    "colab_type": "code",
    "id": "JEOabbdd3ipz"
   },
   "outputs": [
    {
     "ename": "NameError",
     "evalue": "name 'processed_doc' is not defined",
     "output_type": "error",
     "traceback": [
      "\u001b[1;31m---------------------------------------------------------------------------\u001b[0m",
      "\u001b[1;31mNameError\u001b[0m                                 Traceback (most recent call last)",
      "\u001b[1;32m<ipython-input-29-8bffafee771b>\u001b[0m in \u001b[0;36m<module>\u001b[1;34m\u001b[0m\n\u001b[0;32m      1\u001b[0m \u001b[0mreview_sentiment\u001b[0m \u001b[1;33m=\u001b[0m \u001b[1;33m[\u001b[0m\u001b[1;33m]\u001b[0m\u001b[1;33m\u001b[0m\u001b[1;33m\u001b[0m\u001b[0m\n\u001b[0;32m      2\u001b[0m \u001b[1;33m\u001b[0m\u001b[0m\n\u001b[1;32m----> 3\u001b[1;33m \u001b[1;32mfor\u001b[0m \u001b[0mx\u001b[0m \u001b[1;32min\u001b[0m \u001b[0mprocessed_doc\u001b[0m\u001b[1;33m:\u001b[0m\u001b[1;33m\u001b[0m\u001b[1;33m\u001b[0m\u001b[0m\n\u001b[0m\u001b[0;32m      4\u001b[0m     \u001b[0mreview_sentiment\u001b[0m\u001b[1;33m+=\u001b[0m\u001b[0mx\u001b[0m\u001b[1;33m\u001b[0m\u001b[1;33m\u001b[0m\u001b[0m\n\u001b[0;32m      5\u001b[0m \u001b[1;33m\u001b[0m\u001b[0m\n",
      "\u001b[1;31mNameError\u001b[0m: name 'processed_doc' is not defined"
     ]
    }
   ],
   "source": [
    "review_sentiment = []\n",
    "\n",
    "for x in processed_doc:\n",
    "    review_sentiment+=x\n",
    "    \n",
    "df['sentiment'] = review_sentiment\n",
    "\n",
    "ax = df.sentiment.value_counts().plot.bar(figsize=(6,4), title=\"Model count by sentiment\");  \n",
    "ax.set(xlabel = \"sentiment\", ylabel = \"model count\");\n",
    "plt.show()"
   ]
  },
  {
   "cell_type": "markdown",
   "metadata": {
    "colab_type": "text",
    "id": "__2b9LZ_3vRd"
   },
   "source": [
    "From the above graph it can be analysed that the majority of reviews are positive. Less than 1000 reviews are negative and approximately less than 700 reviews are neutral.\n",
    "\n",
    "This obeservation leads to conclude that the dataset is imbalanced and it is further investigated in detail.\n",
    "\n",
    " "
   ]
  }
 ],
 "metadata": {
  "colab": {
   "collapsed_sections": [],
   "name": "Final_Report.ipynb",
   "provenance": [],
   "version": "0.3.2"
  },
  "kernelspec": {
   "display_name": "Python 3",
   "language": "python",
   "name": "python3"
  },
  "language_info": {
   "codemirror_mode": {
    "name": "ipython",
    "version": 3
   },
   "file_extension": ".py",
   "mimetype": "text/x-python",
   "name": "python",
   "nbconvert_exporter": "python",
   "pygments_lexer": "ipython3",
   "version": "3.6.7"
  }
 },
 "nbformat": 4,
 "nbformat_minor": 1
}
